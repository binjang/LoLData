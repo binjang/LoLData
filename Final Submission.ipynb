{
 "cells": [
  {
   "cell_type": "markdown",
   "metadata": {},
   "source": [
    "# INFO 2950 Final Project\n",
    "\n",
    "# League of Legends Gamplay Data Analysis\n",
    "by Bin Jang (bj225)"
   ]
  },
  {
   "cell_type": "markdown",
   "metadata": {},
   "source": [
    "---------------"
   ]
  },
  {
   "cell_type": "markdown",
   "metadata": {},
   "source": [
    "## Table of Contents\n",
    "\n",
    "- [Introduction](#0.-Introduction) \n",
    "- [Data Description](#1.-Data-description)\n",
    "- [Preregistration Statement](#2.-Preregistration-Statement)\n",
    "- [Data Analysis](#3.-Data-Analysis)\n",
    "    - [Non-gameplay Components](#3.1.-Analyzing-Non-gameplay-Components)\n",
    "    - [In-game Components](#3.2.-In-game-Data-Analysis)\n",
    "- [Evaluation of Significance](#4.-Evaluation-of-Significance)\n",
    "- [Interpretation and Conclusions](#5.-Interpretation-and-Conclusions)\n",
    "- [Data Limitations](#6.-Data-Limitations)\n",
    "- [Acknowledgements](#7.-Acknowledgements)\n"
   ]
  },
  {
   "cell_type": "markdown",
   "metadata": {},
   "source": [
    "---------------"
   ]
  },
  {
   "cell_type": "markdown",
   "metadata": {},
   "source": [
    "## [0. Introduction](#Table-of-Contents)\n",
    "\n",
    "I have been playing League of Legends (LoL) for over 10 years now, and I probably have spent 1000+ hours playing the game, but I never had enough motivation to systematically investigate on how to win the game, instead I just relied on my 'feelings' and empirical knowledge for over a thousand hours. In this project, I would like to investigate I want to figure out how one wins the game, and what \"winning the game\" means in a statistical concept - as in when these numbers are met for number of kills, golds earned, etc, it is very likely that you will win the game.\n",
    "\n",
    "In the analysis I will divide the bigger question into two parts, investigating on **non-gamplay components** and **in-game components** that contributes to one's LoL rank. Before we move on to the full-scale anaysis, I would like to provide some basic information about the game.\n",
    "\n",
    "*I'm working on this project alone and I'n not a native English speaker. There could be some grammer errors in the notebook.*"
   ]
  },
  {
   "cell_type": "markdown",
   "metadata": {},
   "source": [
    "### Game System\n",
    "\n",
    "Summoner - \n",
    "Every LoL players are refered to as \"summoners\" in the game. That's the term that they use in the developer API, too.\n",
    "\n",
    "#### Matches\n",
    "\n",
    "<img src=\"https://mobalytics.gg/wp-content/uploads/2018/09/Champ-select-1.jpg\" width=\"600px\" align=\"center\">\n",
    "\n",
    "LoL is a real-time 5v5 online game. There are 5 players on each game, and the goal of each team is to break the opponent team's \"nexus\" (which is a building) which makes the whole team win. All summoners get to choose their own characters (called \"champions\" in the game) and starting positions on the map (called \"lanes\"). The idea in my project is to find out whether the elements on each game that are non-skill-related -- such as the starting \"lane\", or the matchmaking algorithm or whatever.\n",
    "\n",
    "#### Ranks and Tiers \n",
    "\n",
    "<img src=\"https://am-a.akamaihd.net/image?f=https://news-a.akamaihd.net/public/images/articles/2019/january/ranked2019/Lineup.jpg&resize=640:\" width=\"600px\">\n",
    "\n",
    "All summoners in LoL are divided into 9 divisions -- Challenger, Grandmaster, Master, Diamond, Platinum, Gold, Silver, Bronze, and Iron -- according to their rankings (right to left on the image). Players of rankings 1 ~ 300 are placed in the Challenger tier; those of rank 301 ~ 700 are placed in Grandmaster tier; from Master tier, the logic gets more complicated because it is not based on rankings and something else, but if we talk about it in terms of percentages, it's about the top 0.07% (around 2000 in rank). Diamond tier is around the top 1.28% (around 40,000 in rank). These are all based on KR server statistics, and although the exact numbers will change over time, we will assume that it stays about the same. The gameplay data that we will use in this project is up to Master tier."
   ]
  },
  {
   "cell_type": "markdown",
   "metadata": {},
   "source": [
    "### The Map\n",
    "\n",
    "<img src=\"https://mobalytics.gg/wp-content/uploads/2018/12/Basic-map.jpg\" width=\"600px\">\n",
    "\n",
    "There are two teams of five players: the blue team (base at bottom left corner) and the red team (base at the top right corner).\n",
    "\n",
    "<img src=\"https://mobalytics.gg/wp-content/uploads/2019/06/Nexus-and-turrets.jpg\" width=\"600px\">\n",
    "\n",
    "To achieve victory, one team has to destroy the opposing team’s Nexus (basically the core of their base).\n",
    "\n",
    "<img src=\"https://mobalytics.gg/wp-content/uploads/2019/06/Minimap.jpg\" width=\"400px\">\n",
    "\n",
    "<img src=\"https://cdn1.dotesports.com/wp-content/uploads/2018/11/14124235/turretplating1.jpg\" width=\"400px\">\n",
    "\n",
    "But you just can't go straight to the nexus and win the game; in each lanes, there are 3 outer turrets and an inhibitor that protect the nexus.\n",
    "Since turrets have a lot of health, you have to get gold, buy items, and get stronger. You can get gold by killing an opponent player, assisting a kill, taking down a turret, or killing a monster. The first kill on the whole game gives you a little bit more gold. "
   ]
  },
  {
   "cell_type": "markdown",
   "metadata": {},
   "source": [
    "### Objectives and Monsters\n",
    "\n",
    "\n",
    "#### Dragon (Elemental dragon)\n",
    "<img src=\"https://mobalytics.gg/wp-content/uploads/2019/06/Dragon.jpg\" width=\"600px\">\n",
    "\n",
    "Killing an elemental dragon won’t help you win instantly but can make the game easier for you and your teammates over time. Killing a dragon grants buff to the whole team throughout the entire game. The dragons are quite powerful in the early to mid game so they will often require multiple team members to slay, especially if the other team is looking to contest it. The opponent team could also \"steal\" the dragon by giving it the killing blow.\n",
    "\n",
    "\n",
    "\n",
    "#### Baron Nasher\n",
    "<img src=\"https://mobalytics.gg/wp-content/uploads/2019/06/Team-Baron.jpg\" width=\"600px\">\n",
    "\n",
    "Baron is the most powerful monster in Summoner’s Rift so you’ll need multiple team members to slay it unless a match goes on for a very long time (eventually few or even one champion may be able to slay it on their own).\n",
    "\n",
    "Since Baron is so strong, teams can often win by killing a team that’s low on health because they tried to take it at a bad time. It can often be the site of a “final battle” at the end of a close game as the winning team can use it to get a big enough lead to secure a victory. Slaying Baron grants a buff, called Hand of Baron, that is given to all living members of the team that slayed the Baron. \n",
    "\n",
    "(Many of the explanations here were taken from [this website](https://mobalytics.gg/blog/absolute-beginners-guide-to-league-of-legends/).)"
   ]
  },
  {
   "cell_type": "markdown",
   "metadata": {},
   "source": [
    "------------------"
   ]
  },
  {
   "cell_type": "markdown",
   "metadata": {},
   "source": [
    "## [1. Data description](#Table-of-Contents)"
   ]
  },
  {
   "cell_type": "markdown",
   "metadata": {},
   "source": [
    "In this project, I use two different datasets for each part of the analysis. Because the datasets were too big to be uploaded onto CMS, I uploaded them onto [Cornell Box](https://cornell.box.com/s/h1h5n2cb7ho3dorobvrypi1a2s74p1yt). \n",
    "\n",
    "### Dataset for the First Part of Anlysis \n",
    "On the first part of the analysis where I analyze how off-game components affect one's rank, I used datasets that I collected myself using the [Riot Games Developer API](https://developer.riotgames.com). Not much preprocessing was done to the dataset other than removing some columns that are irrelevant to my analysis. There are no other people involved in the collection of data and I didn't get any money for it.\n",
    "\n",
    "For the dataset that I use for analysis 1.1, where I analyze the relationship between the number of games one played and his rank, the final dataframes(one for each tier- Challenger, Grandmaster, Master, in descending order) contain four columns each, namely 'summonerId', 'leaguePoints', 'wins', and 'losses'. \n",
    "- 'summonerId' is the unique summoner ID that Riot gives to each summoner.\n",
    "- 'leaguePoints' is the amount of league points that a summoner has. More LP means higher rank, and there is no upper limit for the amount of LP that you can have. If you win a game, you gain LP; if you lose a game, you lose LP. Simple as that. As of April 26th 2021, the #1 ranked player has 1,522LP.\n",
    "- 'wins' and 'losses' are the number of wins and losses. There's no draw in LoL, so wins + losses would be the total number of games played\n",
    "\n",
    "For the dataset that I use for analysis 1.2, I counted the number of unique champions used for the recent 10 games. The columns display the following information:\n",
    "- summonerId: unique summoner id\n",
    "- accountId: unique account id (used for API requests)\n",
    "- leaguePoints: LP\n",
    "- nChamps: number of unique champions played in recent 20 matches"
   ]
  },
  {
   "cell_type": "markdown",
   "metadata": {},
   "source": [
    "### Dataset for the Second Part of Anlysis \n",
    "On the second part of the analysis where I analyze the in-game components of the games, I used [Kaggle datasets](https://bit.ly/3cPWsM2) that collected the in-game statistics of about 200,000 games played in April 2020. These are also collected using the Riot Games Developer API, but since there is a limit in which a user can make requests in a week, I used a pre-collected dataset instead of collecting them myself (because I had to make so many in order to create a big dataset.) I believe that this project was collected for personal purposes, not something that multiple people are involved in or funded by. \n",
    "\n",
    "There are 50 columns in each of these pre-collected datasets; however, some of the boolean and integer columns contain redundant information. \n",
    "\n",
    "For example, col 2 \"blueWins\" (bool-like integer, 1 if the blue team won) and col 26 \"redWins\" (1 if the red team won) display the same information just negated (1, 0), and so are redFirstBlood (first player kill on the game), redFirstTower, etc. \n",
    "\n",
    "Same for some of the integer columns, like blueTotalLevel and blueAverageLevel (because average level is just total level divided by 5, the number of players on each team).\n",
    "\n",
    "Disregarding redundant columns, the columns display the following information:\n",
    "- gameId: Unique ID of the game (integer), just like summonerId\n",
    "- gameDuration: Integer, duration of the game in seconds\n",
    "- blueWins: Boolean, 1 if the blue team won the game\n",
    "- blueFirstBlood: Boolean, 1 if the blue team got the first blood (first kill of the whole game, which gives more gold)\n",
    "- blueFirstTower: Boolean, 1 if the blue team got the first tower (also gives more gold)\n",
    "- blueFirstBaron: Boolean, 1 if the blue team got the first Baron (does not give more gold)\n",
    "- blueFirstDragon: Boolean, 1 if the blue team got the first dragon (does not give more gold)\n",
    "- blueFirstInhibitor: Boolean, 1 if the blue team got the first inhibitor (does not give more gold)\n",
    "- blueDragonKills: Integer, number of dragons killed by the blue team\n",
    "- blueBaronKills: Integer, number of Barons killed by the blue team\n",
    "- blueTowerKills: Integer, number of towers taken down by the blue team (max 11, because towers don't respawn)\n",
    "- blueInhibitorKills: Integer, number of Inhibitors taken down by the blue team (inhibitors do respawn)\n",
    "- blueWardkills: Integer, number of enemy wards removed by the blue team (wards are items that light up the map on the enemy side)\n",
    "- blueKills: Integer, number of enemy champion kills by the blue team\n",
    "- blueDeath: Integer, number of deaths on blue team\n",
    "- blueAssist: Integer, total number of assists on blue team (when you aid a kill)\n",
    "- blueChampionDamageDealt: Long, total damage dealt by the blue team on enemy champions\n",
    "- blueTotalGold: Integer, total gold gained by the blue team\n",
    "- blueTotalMinionKills: Integer, total number of minions killed by the blue team\n",
    "- blueTotalLevel: Integer, sum of levels of players on the blue team (max 18*5=90)\n",
    "- blueAverageLevel: Float, total level divided by 5\n",
    "- blueJungleMinionKills: Integer, total number of jungle monsters killed by blue team\n",
    "- blueKillingSpree: Integer, number of killing sprees on blue team (3+ consecutive kills without dying, individually)\n",
    "- blueTotalHeal: Long, total amount of health healed for the blue team\n",
    "- blueObjectDamageDealt: Long, total amount of damage dealt on objects (buildings like turrets and inhibitors, nexus) by the blue team\n",
    "\n",
    "The list continues for the red team, but the blue(Boolean) and red(Boolean) contains redundant information reversed. So does 'Kills\" and \"Death\"s. Therefore when we remove the overlapping columns and the gameId column (because it is just for identification), we have **39** unique columns. When the columns are redundant, I kept the columns that come first in order. "
   ]
  },
  {
   "cell_type": "markdown",
   "metadata": {},
   "source": [
    "------------------"
   ]
  },
  {
   "cell_type": "markdown",
   "metadata": {},
   "source": [
    "## [2. Preregistration Statement](#Table-of-Contents)\n",
    "\n",
    "In the project as a whole, I want to figure out how one wins the game, and what \"winning the game\" means in a statistical concept - as in when these numbers are met for number of kills, golds earned, etc, it is very likely that you will win the game.\n",
    "\n",
    "In the analyses, I will divide this bigger question into two parts: "
   ]
  },
  {
   "cell_type": "markdown",
   "metadata": {},
   "source": [
    "### First analysis: Analyzing the non-gameplay components that contribute to higher rankings\n",
    "\n",
    "In the first analysis, I will analyze the component of the game that doesn't directly relate to one's gameplay. For example, the number of games that one plays; if you play more games, does that necessarily mean that you'll get better at it? Are players with more number of games higher up in rank? I will make a scatterplot of 'number of games vs. league points (if you're higher in league points, you're higher up in rank.)' to see if I see a trend between the two.\n",
    "\n",
    "Another example of a non-gameplay component that contributes to higher rank could be one's 'champ pool' - the number of champions that one is able to play in ranked matches. This has been a controvery among players; do you need to play all of the 154 champions in the game to increase your chance of winning? Or is better to play games with one or two champions that you play best? I will also make this analysis by making a plot between the number of 'unique' champions played in the last 100 games (not sure about the exact number of games yet, because of the limitation in the computing power that I have) and league point (ranking)."
   ]
  },
  {
   "cell_type": "markdown",
   "metadata": {},
   "source": [
    "### Second Analysis: Analyzing in-game components that contributes to winning 'a' game\n",
    "\n",
    "Since league of legends is a 5 v 5 game and your teammates are often times people you've never met before, there are a lot of disagreements in the game about what to do as a team. Just like any other sports, there often exist unexpected losses or wins in the game that happens out of the blue. Strategy is a big part of this game; there are many ways to win the game, but what is the one that **you** should choose?\n",
    "\n",
    "Using the [pre-collected Kaggle dataset](https://bit.ly/3cPWsM2) that analyzes the in-game statistics of about 200,000 games played in 2020, I hope to make a 'winning strategy', by analyzing relationship between the 25 variables in the dataset and the outcome of the game. Among those 25 variables - which includes statistics like the number of kills, number of damage dealt, the gold that you've earned, etc - which ones are contribute to winning the game? I expect to make a logistic regression model that would predict the outcome of the game. The first part of the analysis would be identifying the important factors among the 25, and the second part would be to build a predictive model out of those important factors and calculate one's chance of winning when those conditions are met, using some test set. "
   ]
  },
  {
   "cell_type": "markdown",
   "metadata": {},
   "source": [
    "------------------"
   ]
  },
  {
   "cell_type": "markdown",
   "metadata": {},
   "source": [
    "## [3. Data Analysis](#Table-of-Contents)"
   ]
  },
  {
   "cell_type": "markdown",
   "metadata": {},
   "source": [
    "### 3.1. Analyzing Non-gameplay Components\n",
    "\n",
    "I will first analyze the non-gameplay components that could potentionally affect one's ranking; number of games and the 'champ pool' (the number of champions that one plays in ranked matches)."
   ]
  },
  {
   "cell_type": "markdown",
   "metadata": {},
   "source": [
    "#### 3.1.1. Number of games"
   ]
  },
  {
   "cell_type": "code",
   "execution_count": 1,
   "metadata": {},
   "outputs": [],
   "source": [
    "# Do all the necessary imports and read_csv's\n",
    "import pandas as pd\n",
    "import numpy as np\n",
    "import seaborn as sns\n",
    "import matplotlib.pyplot as plt\n",
    "\n",
    "chal_df = pd.read_csv('challenger_data.csv')\n",
    "gm_df = pd.read_csv('grandmaster_data.csv')\n",
    "m_df = pd.read_csv('master_data.csv')"
   ]
  },
  {
   "cell_type": "markdown",
   "metadata": {},
   "source": [
    "Now, we will plot \"League points\" against the number of games for each user in a scatterplot so that we can see the correlation between the two variables; we will do it first for all the challenger users."
   ]
  },
  {
   "cell_type": "code",
   "execution_count": 2,
   "metadata": {},
   "outputs": [
    {
     "data": {
      "text/plain": [
       "Text(-2.700000000000003, 0.5, 'League Points')"
      ]
     },
     "execution_count": 2,
     "metadata": {},
     "output_type": "execute_result"
    },
    {
     "data": {
      "image/png": "[encoded data removed]",
      "text/plain": [
       "<Figure size 360x360 with 1 Axes>"
      ]
     },
     "metadata": {
      "needs_background": "light"
     },
     "output_type": "display_data"
    }
   ],
   "source": [
    "chal_df[\"numGames\"] = chal_df[\"wins\"] + chal_df[\"losses\"]\n",
    "sns.relplot(x = \"numGames\", y = \"leaguePoints\", data = chal_df, alpha = 0.7)\n",
    "plt.xlabel(\"Number of Games\")\n",
    "plt.ylabel(\"League Points\")"
   ]
  },
  {
   "cell_type": "code",
   "execution_count": 7,
   "metadata": {},
   "outputs": [
    {
     "data": {
      "text/plain": [
       "0.0707532507877987"
      ]
     },
     "execution_count": 7,
     "metadata": {},
     "output_type": "execute_result"
    }
   ],
   "source": [
    "chal_df.corr().loc['numGames', 'leaguePoints']"
   ]
  },
  {
   "cell_type": "markdown",
   "metadata": {},
   "source": [
    "It seems like the distribution is totally random, as the graph does not display any relation and the correlation coefficient is also very low. Let us be more specific then; is the **number of wins** related to rankings by any chance?"
   ]
  },
  {
   "cell_type": "code",
   "execution_count": 10,
   "metadata": {},
   "outputs": [
    {
     "data": {
      "text/plain": [
       "Text(-2.700000000000003, 0.5, 'League Points')"
      ]
     },
     "execution_count": 10,
     "metadata": {},
     "output_type": "execute_result"
    },
    {
     "data": {
      "image/png": "[encoded data removed]",
      "text/plain": [
       "<Figure size 360x360 with 1 Axes>"
      ]
     },
     "metadata": {
      "needs_background": "light"
     },
     "output_type": "display_data"
    }
   ],
   "source": [
    "sns.relplot(x = \"wins\", y = \"leaguePoints\", data = chal_df, alpha = 0.7)\n",
    "plt.xlabel(\"Number of Wins\")\n",
    "plt.ylabel(\"League Points\")"
   ]
  },
  {
   "cell_type": "code",
   "execution_count": 11,
   "metadata": {},
   "outputs": [
    {
     "data": {
      "text/plain": [
       "0.09764573079541831"
      ]
     },
     "execution_count": 11,
     "metadata": {},
     "output_type": "execute_result"
    }
   ],
   "source": [
    "chal_df.corr().loc['wins', 'leaguePoints']"
   ]
  },
  {
   "cell_type": "markdown",
   "metadata": {},
   "source": [
    "The number of wins and the ranking is not related to each other either. In fact, this was true for all the users above Master tier. This is a scatterplot that inclues all the 2000 users above Master tier (i.e. includes Chal and GM). "
   ]
  },
  {
   "cell_type": "code",
   "execution_count": 12,
   "metadata": {},
   "outputs": [
    {
     "data": {
      "text/plain": [
       "Text(-2.700000000000003, 0.5, 'League Points')"
      ]
     },
     "execution_count": 12,
     "metadata": {},
     "output_type": "execute_result"
    },
    {
     "data": {
      "image/png": "[encoded data removed]",
      "text/plain": [
       "<Figure size 360x360 with 1 Axes>"
      ]
     },
     "metadata": {
      "needs_background": "light"
     },
     "output_type": "display_data"
    }
   ],
   "source": [
    "gm_df[\"numGames\"] = gm_df[\"wins\"] + gm_df[\"losses\"]\n",
    "m_df[\"numGames\"] = m_df[\"wins\"] + m_df[\"losses\"]\n",
    "all_users = pd.concat([chal_df, gm_df, m_df])\n",
    "\n",
    "sns.relplot(x = \"numGames\", y = \"leaguePoints\", data = all_users, alpha = 0.5)\n",
    "plt.xlabel(\"Number of Games\")\n",
    "plt.ylabel(\"League Points\")"
   ]
  },
  {
   "cell_type": "code",
   "execution_count": 13,
   "metadata": {},
   "outputs": [
    {
     "data": {
      "text/plain": [
       "Text(-2.700000000000003, 0.5, 'League Points')"
      ]
     },
     "execution_count": 13,
     "metadata": {},
     "output_type": "execute_result"
    },
    {
     "data": {
      "image/png": "[encoded data removed]",
      "text/plain": [
       "<Figure size 360x360 with 1 Axes>"
      ]
     },
     "metadata": {
      "needs_background": "light"
     },
     "output_type": "display_data"
    }
   ],
   "source": [
    "sns.relplot(x = \"wins\", y = \"leaguePoints\", data = all_users, alpha = 0.5)\n",
    "plt.xlabel(\"Number of Wins\")\n",
    "plt.ylabel(\"League Points\")"
   ]
  },
  {
   "cell_type": "code",
   "execution_count": 16,
   "metadata": {},
   "outputs": [
    {
     "data": {
      "text/plain": [
       "wins        0.224708\n",
       "losses      0.174152\n",
       "numGames    0.199977\n",
       "Name: leaguePoints, dtype: float64"
      ]
     },
     "execution_count": 16,
     "metadata": {},
     "output_type": "execute_result"
    }
   ],
   "source": [
    "all_users.corr().loc['leaguePoints', ['wins', 'losses', 'numGames']]"
   ]
  },
  {
   "cell_type": "markdown",
   "metadata": {},
   "source": [
    "Although it is a bit hard to see from the graph because there are too many datapoints, from the correlation coefficients we can tell that at least in the tiers above Master, the number of games or the number of wins do not affect the league points; that is, playing the game more doesn't guranetee that you'll place higher in rankings. Although the coefficients were increased compared to the challenger-only analysis, I believe that that is due to the increased sample size, because the correlation coefficients for the 'losses' column is also higher, which cannot logically be true."
   ]
  },
  {
   "cell_type": "code",
   "execution_count": 17,
   "metadata": {},
   "outputs": [
    {
     "data": {
      "text/plain": [
       "Text(-2.700000000000003, 0.5, 'League Points')"
      ]
     },
     "execution_count": 17,
     "metadata": {},
     "output_type": "execute_result"
    },
    {
     "data": {
      "image/png": "[encoded data removed]",
      "text/plain": [
       "<Figure size 360x360 with 1 Axes>"
      ]
     },
     "metadata": {
      "needs_background": "light"
     },
     "output_type": "display_data"
    }
   ],
   "source": [
    "all_users['winrate'] = all_users['wins'] / all_users['numGames']\n",
    "sns.relplot(x = \"winrate\", y = \"leaguePoints\", data = all_users, alpha = 0.5)\n",
    "plt.xlabel(\"Winrate\")\n",
    "plt.ylabel(\"League Points\")"
   ]
  },
  {
   "cell_type": "markdown",
   "metadata": {},
   "source": [
    "Interestingly, the winrate was not related to one's ranking, either. The #1 ranked player had a winrate of around 55% percent, and there were players with extremely high winrate of more than 75% who were low in league points. It's probably because they didn't play enough number of games to gain as much points."
   ]
  },
  {
   "cell_type": "markdown",
   "metadata": {},
   "source": [
    "Although we now know that playing more doesn't help us get better, can we learn anything interesting from the distribution in gerneral?"
   ]
  },
  {
   "cell_type": "code",
   "execution_count": 18,
   "metadata": {},
   "outputs": [
    {
     "data": {
      "text/html": [
       "<div>\n",
       "<style scoped>\n",
       "    .dataframe tbody tr th:only-of-type {\n",
       "        vertical-align: middle;\n",
       "    }\n",
       "\n",
       "    .dataframe tbody tr th {\n",
       "        vertical-align: top;\n",
       "    }\n",
       "\n",
       "    .dataframe thead th {\n",
       "        text-align: right;\n",
       "    }\n",
       "</style>\n",
       "<table border=\"1\" class=\"dataframe\">\n",
       "  <thead>\n",
       "    <tr style=\"text-align: right;\">\n",
       "      <th></th>\n",
       "      <th>leaguePoints</th>\n",
       "      <th>wins</th>\n",
       "      <th>losses</th>\n",
       "      <th>nChamps</th>\n",
       "      <th>numGames</th>\n",
       "      <th>winrate</th>\n",
       "    </tr>\n",
       "  </thead>\n",
       "  <tbody>\n",
       "    <tr>\n",
       "      <th>count</th>\n",
       "      <td>2715.000000</td>\n",
       "      <td>2715.000000</td>\n",
       "      <td>2715.000000</td>\n",
       "      <td>989.000000</td>\n",
       "      <td>2715.000000</td>\n",
       "      <td>2715.000000</td>\n",
       "    </tr>\n",
       "    <tr>\n",
       "      <th>mean</th>\n",
       "      <td>233.648987</td>\n",
       "      <td>218.720810</td>\n",
       "      <td>191.722284</td>\n",
       "      <td>7.475228</td>\n",
       "      <td>410.443094</td>\n",
       "      <td>0.547268</td>\n",
       "    </tr>\n",
       "    <tr>\n",
       "      <th>std</th>\n",
       "      <td>259.899108</td>\n",
       "      <td>132.647921</td>\n",
       "      <td>130.843095</td>\n",
       "      <td>3.149552</td>\n",
       "      <td>262.998563</td>\n",
       "      <td>0.039540</td>\n",
       "    </tr>\n",
       "    <tr>\n",
       "      <th>min</th>\n",
       "      <td>0.000000</td>\n",
       "      <td>22.000000</td>\n",
       "      <td>12.000000</td>\n",
       "      <td>1.000000</td>\n",
       "      <td>38.000000</td>\n",
       "      <td>0.482927</td>\n",
       "    </tr>\n",
       "    <tr>\n",
       "      <th>25%</th>\n",
       "      <td>34.000000</td>\n",
       "      <td>115.000000</td>\n",
       "      <td>90.000000</td>\n",
       "      <td>5.000000</td>\n",
       "      <td>207.000000</td>\n",
       "      <td>0.519481</td>\n",
       "    </tr>\n",
       "    <tr>\n",
       "      <th>50%</th>\n",
       "      <td>137.000000</td>\n",
       "      <td>191.000000</td>\n",
       "      <td>162.000000</td>\n",
       "      <td>8.000000</td>\n",
       "      <td>352.000000</td>\n",
       "      <td>0.536000</td>\n",
       "    </tr>\n",
       "    <tr>\n",
       "      <th>75%</th>\n",
       "      <td>343.000000</td>\n",
       "      <td>292.000000</td>\n",
       "      <td>259.500000</td>\n",
       "      <td>10.000000</td>\n",
       "      <td>553.000000</td>\n",
       "      <td>0.563132</td>\n",
       "    </tr>\n",
       "    <tr>\n",
       "      <th>max</th>\n",
       "      <td>1522.000000</td>\n",
       "      <td>894.000000</td>\n",
       "      <td>870.000000</td>\n",
       "      <td>17.000000</td>\n",
       "      <td>1764.000000</td>\n",
       "      <td>0.835052</td>\n",
       "    </tr>\n",
       "  </tbody>\n",
       "</table>\n",
       "</div>"
      ],
      "text/plain": [
       "       leaguePoints         wins       losses     nChamps     numGames  \\\n",
       "count   2715.000000  2715.000000  2715.000000  989.000000  2715.000000   \n",
       "mean     233.648987   218.720810   191.722284    7.475228   410.443094   \n",
       "std      259.899108   132.647921   130.843095    3.149552   262.998563   \n",
       "min        0.000000    22.000000    12.000000    1.000000    38.000000   \n",
       "25%       34.000000   115.000000    90.000000    5.000000   207.000000   \n",
       "50%      137.000000   191.000000   162.000000    8.000000   352.000000   \n",
       "75%      343.000000   292.000000   259.500000   10.000000   553.000000   \n",
       "max     1522.000000   894.000000   870.000000   17.000000  1764.000000   \n",
       "\n",
       "           winrate  \n",
       "count  2715.000000  \n",
       "mean      0.547268  \n",
       "std       0.039540  \n",
       "min       0.482927  \n",
       "25%       0.519481  \n",
       "50%       0.536000  \n",
       "75%       0.563132  \n",
       "max       0.835052  "
      ]
     },
     "execution_count": 18,
     "metadata": {},
     "output_type": "execute_result"
    }
   ],
   "source": [
    "all_users.describe()"
   ]
  },
  {
   "cell_type": "markdown",
   "metadata": {},
   "source": [
    "What I found intersting here is that although the LP of #1 player is a whopping 1,522, the mean is only around 234. The 75th percentile is still on 343 points. That means that **a few of the high-ranked players are monopolizing over the majority of the league points**. That is, it will be much harder to climb from rank 200 to 100 than to climb from, say rank 2000 to 1900. **You'll need to win a lot more games to climb in the top ranks**. "
   ]
  },
  {
   "cell_type": "markdown",
   "metadata": {},
   "source": [
    "#### 3.1.2: The 'Champ Pool'"
   ]
  },
  {
   "cell_type": "markdown",
   "metadata": {},
   "source": [
    "Now we will analyze the relationship between a user's 'champ pool' and his rankings. To do this, I added a 'nchamps' column to each of the dataframe that counts how many unique champions were played in the last 20 ranked matches that the user played. As we did for the previous sections, we will first plot this variable against 'league points'."
   ]
  },
  {
   "cell_type": "code",
   "execution_count": 19,
   "metadata": {},
   "outputs": [
    {
     "data": {
      "text/plain": [
       "Text(-2.700000000000003, 0.5, 'League Points')"
      ]
     },
     "execution_count": 19,
     "metadata": {},
     "output_type": "execute_result"
    },
    {
     "data": {
      "image/png": "[encoded data removed]",
      "text/plain": [
       "<Figure size 360x360 with 1 Axes>"
      ]
     },
     "metadata": {
      "needs_background": "light"
     },
     "output_type": "display_data"
    }
   ],
   "source": [
    "sns.relplot(x = \"nChamps\", y = \"leaguePoints\", data = chal_df, alpha = 0.7)\n",
    "plt.xlabel(\"Number of Unique Champions\")\n",
    "plt.ylabel(\"League Points\")"
   ]
  },
  {
   "cell_type": "markdown",
   "metadata": {},
   "source": [
    "At first glance the two look unrelated. Since the graph is a bit hard to read, instead of plotting all the individual players, I will take the mean of league points for players who belong in the same 'nchamps' category."
   ]
  },
  {
   "cell_type": "code",
   "execution_count": 20,
   "metadata": {},
   "outputs": [
    {
     "data": {
      "text/plain": [
       "<seaborn.axisgrid.FacetGrid at 0x7fb61323e160>"
      ]
     },
     "execution_count": 20,
     "metadata": {},
     "output_type": "execute_result"
    },
    {
     "data": {
      "image/png": "[encoded data removed]",
      "text/plain": [
       "<Figure size 360x360 with 1 Axes>"
      ]
     },
     "metadata": {
      "needs_background": "light"
     },
     "output_type": "display_data"
    }
   ],
   "source": [
    "dicts = {}\n",
    "for i in range(21):\n",
    "    dicts[i] = chal_df[chal_df['nChamps'] == i].mean()\n",
    "    \n",
    "chal_mean = pd.DataFrame(dicts).T\n",
    "sns.relplot(x = \"nChamps\", y = \"leaguePoints\", data = chal_mean, alpha = 0.7)"
   ]
  },
  {
   "cell_type": "code",
   "execution_count": 127,
   "metadata": {},
   "outputs": [
    {
     "data": {
      "text/plain": [
       "<AxesSubplot:xlabel='nChamps', ylabel='leaguePoints'>"
      ]
     },
     "execution_count": 127,
     "metadata": {},
     "output_type": "execute_result"
    },
    {
     "data": {
      "image/png": "[encoded data removed]",
      "text/plain": [
       "<Figure size 432x288 with 1 Axes>"
      ]
     },
     "metadata": {
      "needs_background": "light"
     },
     "output_type": "display_data"
    }
   ],
   "source": [
    "sns.regplot(x = \"nChamps\", y = \"leaguePoints\", data=chal_mean, x_estimator=np.mean, logx=True)"
   ]
  },
  {
   "cell_type": "markdown",
   "metadata": {},
   "source": [
    "When we plotted the mean values instead, the plot looks approximately logarithmic, although there are a few outliers. Let us see if the model works in the bigger dataset, including all the players up to Grandmaster tier."
   ]
  },
  {
   "cell_type": "code",
   "execution_count": 21,
   "metadata": {},
   "outputs": [
    {
     "data": {
      "text/plain": [
       "<seaborn.axisgrid.FacetGrid at 0x7fb6133f1e80>"
      ]
     },
     "execution_count": 21,
     "metadata": {},
     "output_type": "execute_result"
    },
    {
     "data": {
      "image/png": "[encoded data removed]",
      "text/plain": [
       "<Figure size 360x360 with 1 Axes>"
      ]
     },
     "metadata": {
      "needs_background": "light"
     },
     "output_type": "display_data"
    }
   ],
   "source": [
    "all_df = pd.concat([chal_df, gm_df])\n",
    "all_df['winrate'] = all_df['wins'] / all_df['numGames']\n",
    "dicts2 = {}\n",
    "for i in range(21):\n",
    "    dicts2[i] = all_df[all_df['nChamps'] == i].mean()\n",
    "    \n",
    "all_mean = pd.DataFrame(dicts2).T\n",
    "sns.relplot(x = \"nChamps\", y = \"leaguePoints\", data = all_mean, alpha = 0.7)"
   ]
  },
  {
   "cell_type": "code",
   "execution_count": 22,
   "metadata": {},
   "outputs": [
    {
     "data": {
      "text/plain": [
       "<AxesSubplot:xlabel='nChamps', ylabel='leaguePoints'>"
      ]
     },
     "execution_count": 22,
     "metadata": {},
     "output_type": "execute_result"
    },
    {
     "data": {
      "image/png": "[encoded data removed]",
      "text/plain": [
       "<Figure size 432x288 with 1 Axes>"
      ]
     },
     "metadata": {
      "needs_background": "light"
     },
     "output_type": "display_data"
    }
   ],
   "source": [
    "sns.regplot(x = \"nChamps\", y = \"leaguePoints\", data=all_mean, x_estimator=np.mean, logx=True)"
   ]
  },
  {
   "cell_type": "markdown",
   "metadata": {},
   "source": [
    "Although the trend looks less 'logarithmic' when we extend our sample, we know for sure that there is a positive trend between the number of champions and one's ranking. Let's look at the actual distribution instead of the mean to strengthen our hypothesis."
   ]
  },
  {
   "cell_type": "code",
   "execution_count": 23,
   "metadata": {},
   "outputs": [
    {
     "data": {
      "text/plain": [
       "<seaborn.axisgrid.FacetGrid at 0x7fb613e867c0>"
      ]
     },
     "execution_count": 23,
     "metadata": {},
     "output_type": "execute_result"
    },
    {
     "data": {
      "image/png": "[encoded data removed]",
      "text/plain": [
       "<Figure size 360x360 with 1 Axes>"
      ]
     },
     "metadata": {
      "needs_background": "light"
     },
     "output_type": "display_data"
    }
   ],
   "source": [
    "sns.relplot(x = \"nChamps\", y = \"leaguePoints\", data = all_df, alpha = 0.7)"
   ]
  },
  {
   "cell_type": "code",
   "execution_count": 24,
   "metadata": {},
   "outputs": [
    {
     "data": {
      "text/html": [
       "<div>\n",
       "<style scoped>\n",
       "    .dataframe tbody tr th:only-of-type {\n",
       "        vertical-align: middle;\n",
       "    }\n",
       "\n",
       "    .dataframe tbody tr th {\n",
       "        vertical-align: top;\n",
       "    }\n",
       "\n",
       "    .dataframe thead th {\n",
       "        text-align: right;\n",
       "    }\n",
       "</style>\n",
       "<table border=\"1\" class=\"dataframe\">\n",
       "  <thead>\n",
       "    <tr style=\"text-align: right;\">\n",
       "      <th></th>\n",
       "      <th>leaguePoints</th>\n",
       "      <th>wins</th>\n",
       "      <th>losses</th>\n",
       "      <th>nChamps</th>\n",
       "      <th>numGames</th>\n",
       "      <th>winrate</th>\n",
       "    </tr>\n",
       "  </thead>\n",
       "  <tbody>\n",
       "    <tr>\n",
       "      <th>count</th>\n",
       "      <td>989.000000</td>\n",
       "      <td>989.000000</td>\n",
       "      <td>989.000000</td>\n",
       "      <td>989.000000</td>\n",
       "      <td>989.000000</td>\n",
       "      <td>989.000000</td>\n",
       "    </tr>\n",
       "    <tr>\n",
       "      <th>mean</th>\n",
       "      <td>511.218402</td>\n",
       "      <td>256.550051</td>\n",
       "      <td>222.459050</td>\n",
       "      <td>7.475228</td>\n",
       "      <td>479.009100</td>\n",
       "      <td>0.547829</td>\n",
       "    </tr>\n",
       "    <tr>\n",
       "      <th>std</th>\n",
       "      <td>235.396760</td>\n",
       "      <td>132.304538</td>\n",
       "      <td>131.542244</td>\n",
       "      <td>3.149552</td>\n",
       "      <td>263.447732</td>\n",
       "      <td>0.033347</td>\n",
       "    </tr>\n",
       "    <tr>\n",
       "      <th>min</th>\n",
       "      <td>78.000000</td>\n",
       "      <td>49.000000</td>\n",
       "      <td>32.000000</td>\n",
       "      <td>1.000000</td>\n",
       "      <td>87.000000</td>\n",
       "      <td>0.502110</td>\n",
       "    </tr>\n",
       "    <tr>\n",
       "      <th>25%</th>\n",
       "      <td>324.000000</td>\n",
       "      <td>153.000000</td>\n",
       "      <td>123.000000</td>\n",
       "      <td>5.000000</td>\n",
       "      <td>279.000000</td>\n",
       "      <td>0.523929</td>\n",
       "    </tr>\n",
       "    <tr>\n",
       "      <th>50%</th>\n",
       "      <td>454.000000</td>\n",
       "      <td>232.000000</td>\n",
       "      <td>193.000000</td>\n",
       "      <td>8.000000</td>\n",
       "      <td>425.000000</td>\n",
       "      <td>0.539474</td>\n",
       "    </tr>\n",
       "    <tr>\n",
       "      <th>75%</th>\n",
       "      <td>648.000000</td>\n",
       "      <td>333.000000</td>\n",
       "      <td>297.000000</td>\n",
       "      <td>10.000000</td>\n",
       "      <td>629.000000</td>\n",
       "      <td>0.562674</td>\n",
       "    </tr>\n",
       "    <tr>\n",
       "      <th>max</th>\n",
       "      <td>1522.000000</td>\n",
       "      <td>894.000000</td>\n",
       "      <td>870.000000</td>\n",
       "      <td>17.000000</td>\n",
       "      <td>1764.000000</td>\n",
       "      <td>0.748387</td>\n",
       "    </tr>\n",
       "  </tbody>\n",
       "</table>\n",
       "</div>"
      ],
      "text/plain": [
       "       leaguePoints        wins      losses     nChamps     numGames  \\\n",
       "count    989.000000  989.000000  989.000000  989.000000   989.000000   \n",
       "mean     511.218402  256.550051  222.459050    7.475228   479.009100   \n",
       "std      235.396760  132.304538  131.542244    3.149552   263.447732   \n",
       "min       78.000000   49.000000   32.000000    1.000000    87.000000   \n",
       "25%      324.000000  153.000000  123.000000    5.000000   279.000000   \n",
       "50%      454.000000  232.000000  193.000000    8.000000   425.000000   \n",
       "75%      648.000000  333.000000  297.000000   10.000000   629.000000   \n",
       "max     1522.000000  894.000000  870.000000   17.000000  1764.000000   \n",
       "\n",
       "          winrate  \n",
       "count  989.000000  \n",
       "mean     0.547829  \n",
       "std      0.033347  \n",
       "min      0.502110  \n",
       "25%      0.523929  \n",
       "50%      0.539474  \n",
       "75%      0.562674  \n",
       "max      0.748387  "
      ]
     },
     "execution_count": 24,
     "metadata": {},
     "output_type": "execute_result"
    }
   ],
   "source": [
    "all_df.describe()"
   ]
  },
  {
   "cell_type": "markdown",
   "metadata": {},
   "source": [
    "It seems like there are less players towards both the right and the left end, but the overall distribution leans slightly towards the left. Out of 989 players, there was **no player who played 20 different champions on the past 20 games (17 was max)**, the **mean was around 8**, and **around half of the players played 5 to 10 unique champions**. If we look at that at a bigger context, since there are **155** different champions in League of Legends, over half of the high-ranked players play with only around **3.2 ~ 6.5 % of the available champion choices** (especially because there was none above 17 anyways)."
   ]
  },
  {
   "cell_type": "code",
   "execution_count": 25,
   "metadata": {},
   "outputs": [
    {
     "data": {
      "text/html": [
       "<div>\n",
       "<style scoped>\n",
       "    .dataframe tbody tr th:only-of-type {\n",
       "        vertical-align: middle;\n",
       "    }\n",
       "\n",
       "    .dataframe tbody tr th {\n",
       "        vertical-align: top;\n",
       "    }\n",
       "\n",
       "    .dataframe thead th {\n",
       "        text-align: right;\n",
       "    }\n",
       "</style>\n",
       "<table border=\"1\" class=\"dataframe\">\n",
       "  <thead>\n",
       "    <tr style=\"text-align: right;\">\n",
       "      <th></th>\n",
       "      <th>leaguePoints</th>\n",
       "      <th>wins</th>\n",
       "      <th>losses</th>\n",
       "      <th>nChamps</th>\n",
       "      <th>numGames</th>\n",
       "      <th>winrate</th>\n",
       "    </tr>\n",
       "  </thead>\n",
       "  <tbody>\n",
       "    <tr>\n",
       "      <th>count</th>\n",
       "      <td>30.00000</td>\n",
       "      <td>30.000000</td>\n",
       "      <td>30.000000</td>\n",
       "      <td>30.0</td>\n",
       "      <td>30.000000</td>\n",
       "      <td>30.000000</td>\n",
       "    </tr>\n",
       "    <tr>\n",
       "      <th>mean</th>\n",
       "      <td>414.30000</td>\n",
       "      <td>210.100000</td>\n",
       "      <td>181.100000</td>\n",
       "      <td>1.0</td>\n",
       "      <td>391.200000</td>\n",
       "      <td>0.548685</td>\n",
       "    </tr>\n",
       "    <tr>\n",
       "      <th>std</th>\n",
       "      <td>161.29458</td>\n",
       "      <td>107.051824</td>\n",
       "      <td>107.531022</td>\n",
       "      <td>0.0</td>\n",
       "      <td>214.357645</td>\n",
       "      <td>0.035276</td>\n",
       "    </tr>\n",
       "    <tr>\n",
       "      <th>min</th>\n",
       "      <td>225.00000</td>\n",
       "      <td>74.000000</td>\n",
       "      <td>37.000000</td>\n",
       "      <td>1.0</td>\n",
       "      <td>111.000000</td>\n",
       "      <td>0.507859</td>\n",
       "    </tr>\n",
       "    <tr>\n",
       "      <th>25%</th>\n",
       "      <td>266.50000</td>\n",
       "      <td>144.250000</td>\n",
       "      <td>118.500000</td>\n",
       "      <td>1.0</td>\n",
       "      <td>261.250000</td>\n",
       "      <td>0.527944</td>\n",
       "    </tr>\n",
       "    <tr>\n",
       "      <th>50%</th>\n",
       "      <td>402.00000</td>\n",
       "      <td>178.500000</td>\n",
       "      <td>153.500000</td>\n",
       "      <td>1.0</td>\n",
       "      <td>331.500000</td>\n",
       "      <td>0.540062</td>\n",
       "    </tr>\n",
       "    <tr>\n",
       "      <th>75%</th>\n",
       "      <td>557.00000</td>\n",
       "      <td>258.250000</td>\n",
       "      <td>231.750000</td>\n",
       "      <td>1.0</td>\n",
       "      <td>490.750000</td>\n",
       "      <td>0.547861</td>\n",
       "    </tr>\n",
       "    <tr>\n",
       "      <th>max</th>\n",
       "      <td>695.00000</td>\n",
       "      <td>517.000000</td>\n",
       "      <td>501.000000</td>\n",
       "      <td>1.0</td>\n",
       "      <td>1018.000000</td>\n",
       "      <td>0.666667</td>\n",
       "    </tr>\n",
       "  </tbody>\n",
       "</table>\n",
       "</div>"
      ],
      "text/plain": [
       "       leaguePoints        wins      losses  nChamps     numGames    winrate\n",
       "count      30.00000   30.000000   30.000000     30.0    30.000000  30.000000\n",
       "mean      414.30000  210.100000  181.100000      1.0   391.200000   0.548685\n",
       "std       161.29458  107.051824  107.531022      0.0   214.357645   0.035276\n",
       "min       225.00000   74.000000   37.000000      1.0   111.000000   0.507859\n",
       "25%       266.50000  144.250000  118.500000      1.0   261.250000   0.527944\n",
       "50%       402.00000  178.500000  153.500000      1.0   331.500000   0.540062\n",
       "75%       557.00000  258.250000  231.750000      1.0   490.750000   0.547861\n",
       "max       695.00000  517.000000  501.000000      1.0  1018.000000   0.666667"
      ]
     },
     "execution_count": 25,
     "metadata": {},
     "output_type": "execute_result"
    }
   ],
   "source": [
    "onechamp = all_df[all_df['nChamps'] == 1]\n",
    "onechamp.describe()"
   ]
  },
  {
   "cell_type": "markdown",
   "metadata": {},
   "source": [
    "Also there were **30 players** (about 3% of the whole population) who played only **one champion** for the past 20 games. This group had a slightly lower league point average compared to the whole population, but also less number of games, and **around the same winrate**. This shows that you can still enjoy the game even if you only know how to play a single champion."
   ]
  },
  {
   "cell_type": "code",
   "execution_count": 26,
   "metadata": {},
   "outputs": [
    {
     "data": {
      "text/html": [
       "<div>\n",
       "<style scoped>\n",
       "    .dataframe tbody tr th:only-of-type {\n",
       "        vertical-align: middle;\n",
       "    }\n",
       "\n",
       "    .dataframe tbody tr th {\n",
       "        vertical-align: top;\n",
       "    }\n",
       "\n",
       "    .dataframe thead th {\n",
       "        text-align: right;\n",
       "    }\n",
       "</style>\n",
       "<table border=\"1\" class=\"dataframe\">\n",
       "  <thead>\n",
       "    <tr style=\"text-align: right;\">\n",
       "      <th></th>\n",
       "      <th>leaguePoints</th>\n",
       "      <th>wins</th>\n",
       "      <th>losses</th>\n",
       "      <th>nChamps</th>\n",
       "      <th>numGames</th>\n",
       "      <th>winrate</th>\n",
       "    </tr>\n",
       "  </thead>\n",
       "  <tbody>\n",
       "    <tr>\n",
       "      <th>count</th>\n",
       "      <td>46.000000</td>\n",
       "      <td>46.000000</td>\n",
       "      <td>46.000000</td>\n",
       "      <td>46.000000</td>\n",
       "      <td>46.000000</td>\n",
       "      <td>46.000000</td>\n",
       "    </tr>\n",
       "    <tr>\n",
       "      <th>mean</th>\n",
       "      <td>1147.630435</td>\n",
       "      <td>299.260870</td>\n",
       "      <td>244.934783</td>\n",
       "      <td>8.434783</td>\n",
       "      <td>544.195652</td>\n",
       "      <td>0.559793</td>\n",
       "    </tr>\n",
       "    <tr>\n",
       "      <th>std</th>\n",
       "      <td>116.927966</td>\n",
       "      <td>117.816512</td>\n",
       "      <td>119.213050</td>\n",
       "      <td>2.705157</td>\n",
       "      <td>236.705877</td>\n",
       "      <td>0.027656</td>\n",
       "    </tr>\n",
       "    <tr>\n",
       "      <th>min</th>\n",
       "      <td>1002.000000</td>\n",
       "      <td>120.000000</td>\n",
       "      <td>77.000000</td>\n",
       "      <td>2.000000</td>\n",
       "      <td>202.000000</td>\n",
       "      <td>0.517745</td>\n",
       "    </tr>\n",
       "    <tr>\n",
       "      <th>25%</th>\n",
       "      <td>1062.000000</td>\n",
       "      <td>217.000000</td>\n",
       "      <td>158.500000</td>\n",
       "      <td>7.000000</td>\n",
       "      <td>373.750000</td>\n",
       "      <td>0.538983</td>\n",
       "    </tr>\n",
       "    <tr>\n",
       "      <th>50%</th>\n",
       "      <td>1130.500000</td>\n",
       "      <td>273.500000</td>\n",
       "      <td>214.500000</td>\n",
       "      <td>8.000000</td>\n",
       "      <td>480.500000</td>\n",
       "      <td>0.556498</td>\n",
       "    </tr>\n",
       "    <tr>\n",
       "      <th>75%</th>\n",
       "      <td>1203.000000</td>\n",
       "      <td>345.000000</td>\n",
       "      <td>293.250000</td>\n",
       "      <td>10.000000</td>\n",
       "      <td>636.250000</td>\n",
       "      <td>0.578871</td>\n",
       "    </tr>\n",
       "    <tr>\n",
       "      <th>max</th>\n",
       "      <td>1522.000000</td>\n",
       "      <td>596.000000</td>\n",
       "      <td>537.000000</td>\n",
       "      <td>15.000000</td>\n",
       "      <td>1133.000000</td>\n",
       "      <td>0.622318</td>\n",
       "    </tr>\n",
       "  </tbody>\n",
       "</table>\n",
       "</div>"
      ],
      "text/plain": [
       "       leaguePoints        wins      losses    nChamps     numGames    winrate\n",
       "count     46.000000   46.000000   46.000000  46.000000    46.000000  46.000000\n",
       "mean    1147.630435  299.260870  244.934783   8.434783   544.195652   0.559793\n",
       "std      116.927966  117.816512  119.213050   2.705157   236.705877   0.027656\n",
       "min     1002.000000  120.000000   77.000000   2.000000   202.000000   0.517745\n",
       "25%     1062.000000  217.000000  158.500000   7.000000   373.750000   0.538983\n",
       "50%     1130.500000  273.500000  214.500000   8.000000   480.500000   0.556498\n",
       "75%     1203.000000  345.000000  293.250000  10.000000   636.250000   0.578871\n",
       "max     1522.000000  596.000000  537.000000  15.000000  1133.000000   0.622318"
      ]
     },
     "execution_count": 26,
     "metadata": {},
     "output_type": "execute_result"
    }
   ],
   "source": [
    "highLP = all_df[all_df['leaguePoints'] > 1000]\n",
    "highLP.describe()"
   ]
  },
  {
   "cell_type": "markdown",
   "metadata": {},
   "source": [
    "Now let's look at the statistics of the top-ranked players with over 1000 LP. First thing we notice is that the mean number of games and winrate are both higher than the total average. Also, nChamps is higher, so they have more options of champions to choose from.\n",
    "\n",
    "In conclusion, what we know from the first part of the analysis is that **neither high winrate nor more number of games alone guarentees higher rank; you need a good mix of both**. As for the number of champions, **there is a positive trend and the mean goes up as the rank gets higher, but there are outliers, so it's not necessary to play diverse champions but statistically advantageous to do so.** "
   ]
  },
  {
   "cell_type": "markdown",
   "metadata": {},
   "source": [
    "------------------"
   ]
  },
  {
   "cell_type": "markdown",
   "metadata": {},
   "source": [
    "### 3.2. In-game Data Analysis"
   ]
  },
  {
   "cell_type": "code",
   "execution_count": 27,
   "metadata": {},
   "outputs": [
    {
     "data": {
      "text/html": [
       "<div>\n",
       "<style scoped>\n",
       "    .dataframe tbody tr th:only-of-type {\n",
       "        vertical-align: middle;\n",
       "    }\n",
       "\n",
       "    .dataframe tbody tr th {\n",
       "        vertical-align: top;\n",
       "    }\n",
       "\n",
       "    .dataframe thead th {\n",
       "        text-align: right;\n",
       "    }\n",
       "</style>\n",
       "<table border=\"1\" class=\"dataframe\">\n",
       "  <thead>\n",
       "    <tr style=\"text-align: right;\">\n",
       "      <th></th>\n",
       "      <th>gameId</th>\n",
       "      <th>gameDuraton</th>\n",
       "      <th>blueWins</th>\n",
       "      <th>blueFirstBlood</th>\n",
       "      <th>blueFirstTower</th>\n",
       "      <th>blueFirstBaron</th>\n",
       "      <th>blueFirstDragon</th>\n",
       "      <th>blueFirstInhibitor</th>\n",
       "      <th>blueDragonKills</th>\n",
       "      <th>blueBaronKills</th>\n",
       "      <th>...</th>\n",
       "      <th>redAssist</th>\n",
       "      <th>redChampionDamageDealt</th>\n",
       "      <th>redTotalGold</th>\n",
       "      <th>redTotalMinionKills</th>\n",
       "      <th>redTotalLevel</th>\n",
       "      <th>redAvgLevel</th>\n",
       "      <th>redJungleMinionKills</th>\n",
       "      <th>redKillingSpree</th>\n",
       "      <th>redTotalHeal</th>\n",
       "      <th>redObjectDamageDealt</th>\n",
       "    </tr>\n",
       "  </thead>\n",
       "  <tbody>\n",
       "    <tr>\n",
       "      <th>0</th>\n",
       "      <td>4247263043</td>\n",
       "      <td>1323</td>\n",
       "      <td>0</td>\n",
       "      <td>1</td>\n",
       "      <td>0</td>\n",
       "      <td>0</td>\n",
       "      <td>0</td>\n",
       "      <td>0</td>\n",
       "      <td>0</td>\n",
       "      <td>0</td>\n",
       "      <td>...</td>\n",
       "      <td>68</td>\n",
       "      <td>73016</td>\n",
       "      <td>49832</td>\n",
       "      <td>533</td>\n",
       "      <td>64</td>\n",
       "      <td>12.8</td>\n",
       "      <td>138</td>\n",
       "      <td>8</td>\n",
       "      <td>38711</td>\n",
       "      <td>60463</td>\n",
       "    </tr>\n",
       "    <tr>\n",
       "      <th>1</th>\n",
       "      <td>4247155821</td>\n",
       "      <td>1317</td>\n",
       "      <td>1</td>\n",
       "      <td>0</td>\n",
       "      <td>0</td>\n",
       "      <td>0</td>\n",
       "      <td>1</td>\n",
       "      <td>0</td>\n",
       "      <td>2</td>\n",
       "      <td>0</td>\n",
       "      <td>...</td>\n",
       "      <td>8</td>\n",
       "      <td>44218</td>\n",
       "      <td>37136</td>\n",
       "      <td>571</td>\n",
       "      <td>59</td>\n",
       "      <td>11.8</td>\n",
       "      <td>134</td>\n",
       "      <td>3</td>\n",
       "      <td>24829</td>\n",
       "      <td>14105</td>\n",
       "    </tr>\n",
       "    <tr>\n",
       "      <th>2</th>\n",
       "      <td>4243963257</td>\n",
       "      <td>932</td>\n",
       "      <td>0</td>\n",
       "      <td>0</td>\n",
       "      <td>0</td>\n",
       "      <td>0</td>\n",
       "      <td>0</td>\n",
       "      <td>0</td>\n",
       "      <td>0</td>\n",
       "      <td>0</td>\n",
       "      <td>...</td>\n",
       "      <td>20</td>\n",
       "      <td>30797</td>\n",
       "      <td>35364</td>\n",
       "      <td>400</td>\n",
       "      <td>50</td>\n",
       "      <td>10.0</td>\n",
       "      <td>89</td>\n",
       "      <td>5</td>\n",
       "      <td>12589</td>\n",
       "      <td>45201</td>\n",
       "    </tr>\n",
       "    <tr>\n",
       "      <th>3</th>\n",
       "      <td>4241678498</td>\n",
       "      <td>2098</td>\n",
       "      <td>0</td>\n",
       "      <td>0</td>\n",
       "      <td>0</td>\n",
       "      <td>1</td>\n",
       "      <td>1</td>\n",
       "      <td>0</td>\n",
       "      <td>1</td>\n",
       "      <td>1</td>\n",
       "      <td>...</td>\n",
       "      <td>72</td>\n",
       "      <td>125866</td>\n",
       "      <td>70528</td>\n",
       "      <td>832</td>\n",
       "      <td>84</td>\n",
       "      <td>16.8</td>\n",
       "      <td>205</td>\n",
       "      <td>9</td>\n",
       "      <td>65312</td>\n",
       "      <td>88202</td>\n",
       "    </tr>\n",
       "    <tr>\n",
       "      <th>4</th>\n",
       "      <td>4241538868</td>\n",
       "      <td>2344</td>\n",
       "      <td>1</td>\n",
       "      <td>1</td>\n",
       "      <td>1</td>\n",
       "      <td>1</td>\n",
       "      <td>1</td>\n",
       "      <td>1</td>\n",
       "      <td>2</td>\n",
       "      <td>2</td>\n",
       "      <td>...</td>\n",
       "      <td>83</td>\n",
       "      <td>131536</td>\n",
       "      <td>74596</td>\n",
       "      <td>794</td>\n",
       "      <td>85</td>\n",
       "      <td>17.0</td>\n",
       "      <td>227</td>\n",
       "      <td>7</td>\n",
       "      <td>86431</td>\n",
       "      <td>64141</td>\n",
       "    </tr>\n",
       "  </tbody>\n",
       "</table>\n",
       "<p>5 rows × 50 columns</p>\n",
       "</div>"
      ],
      "text/plain": [
       "       gameId  gameDuraton  blueWins  blueFirstBlood  blueFirstTower  \\\n",
       "0  4247263043         1323         0               1               0   \n",
       "1  4247155821         1317         1               0               0   \n",
       "2  4243963257          932         0               0               0   \n",
       "3  4241678498         2098         0               0               0   \n",
       "4  4241538868         2344         1               1               1   \n",
       "\n",
       "   blueFirstBaron  blueFirstDragon  blueFirstInhibitor  blueDragonKills  \\\n",
       "0               0                0                   0                0   \n",
       "1               0                1                   0                2   \n",
       "2               0                0                   0                0   \n",
       "3               1                1                   0                1   \n",
       "4               1                1                   1                2   \n",
       "\n",
       "   blueBaronKills  ...  redAssist  redChampionDamageDealt  redTotalGold  \\\n",
       "0               0  ...         68                   73016         49832   \n",
       "1               0  ...          8                   44218         37136   \n",
       "2               0  ...         20                   30797         35364   \n",
       "3               1  ...         72                  125866         70528   \n",
       "4               2  ...         83                  131536         74596   \n",
       "\n",
       "   redTotalMinionKills  redTotalLevel  redAvgLevel  redJungleMinionKills  \\\n",
       "0                  533             64         12.8                   138   \n",
       "1                  571             59         11.8                   134   \n",
       "2                  400             50         10.0                    89   \n",
       "3                  832             84         16.8                   205   \n",
       "4                  794             85         17.0                   227   \n",
       "\n",
       "   redKillingSpree  redTotalHeal  redObjectDamageDealt  \n",
       "0                8         38711                 60463  \n",
       "1                3         24829                 14105  \n",
       "2                5         12589                 45201  \n",
       "3                9         65312                 88202  \n",
       "4                7         86431                 64141  \n",
       "\n",
       "[5 rows x 50 columns]"
      ]
     },
     "execution_count": 27,
     "metadata": {},
     "output_type": "execute_result"
    }
   ],
   "source": [
    "# Reading pre-collected csv files / separate file for each tier\n",
    "\n",
    "C_data = pd.read_csv(\"Challenger_Ranked_Games.csv\")\n",
    "GM_data = pd.read_csv(\"GrandMaster_Ranked_Games.csv\")\n",
    "M_data = pd.read_csv(\"Master_Ranked_Games.csv\")\n",
    "\n",
    "C_data.head()"
   ]
  },
  {
   "cell_type": "markdown",
   "metadata": {},
   "source": [
    "#### 3.2.1: \"First\" Columns\n",
    "\n",
    "Columns 3~8 display which team took the first objective (Kill, tower, Baron, Dragon, Inhibitor).\n",
    "I plotted the correlation between the \"win\" and \"first\" variables to see the correlations between the individual \"first\" columns and the win/loss of the game."
   ]
  },
  {
   "cell_type": "code",
   "execution_count": 28,
   "metadata": {},
   "outputs": [
    {
     "data": {
      "text/html": [
       "<div>\n",
       "<style scoped>\n",
       "    .dataframe tbody tr th:only-of-type {\n",
       "        vertical-align: middle;\n",
       "    }\n",
       "\n",
       "    .dataframe tbody tr th {\n",
       "        vertical-align: top;\n",
       "    }\n",
       "\n",
       "    .dataframe thead th {\n",
       "        text-align: right;\n",
       "    }\n",
       "</style>\n",
       "<table border=\"1\" class=\"dataframe\">\n",
       "  <thead>\n",
       "    <tr style=\"text-align: right;\">\n",
       "      <th></th>\n",
       "      <th>blueWins</th>\n",
       "      <th>blueFirstBlood</th>\n",
       "      <th>blueFirstTower</th>\n",
       "      <th>blueFirstBaron</th>\n",
       "      <th>blueFirstDragon</th>\n",
       "      <th>blueFirstInhibitor</th>\n",
       "    </tr>\n",
       "  </thead>\n",
       "  <tbody>\n",
       "    <tr>\n",
       "      <th>blueWins</th>\n",
       "      <td>1.000000</td>\n",
       "      <td>0.206442</td>\n",
       "      <td>0.449065</td>\n",
       "      <td>0.366722</td>\n",
       "      <td>0.267778</td>\n",
       "      <td>0.637521</td>\n",
       "    </tr>\n",
       "    <tr>\n",
       "      <th>blueFirstBlood</th>\n",
       "      <td>0.206442</td>\n",
       "      <td>1.000000</td>\n",
       "      <td>0.209255</td>\n",
       "      <td>0.057685</td>\n",
       "      <td>0.133711</td>\n",
       "      <td>0.146766</td>\n",
       "    </tr>\n",
       "    <tr>\n",
       "      <th>blueFirstTower</th>\n",
       "      <td>0.449065</td>\n",
       "      <td>0.209255</td>\n",
       "      <td>1.000000</td>\n",
       "      <td>0.134875</td>\n",
       "      <td>0.195663</td>\n",
       "      <td>0.344918</td>\n",
       "    </tr>\n",
       "    <tr>\n",
       "      <th>blueFirstBaron</th>\n",
       "      <td>0.366722</td>\n",
       "      <td>0.057685</td>\n",
       "      <td>0.134875</td>\n",
       "      <td>1.000000</td>\n",
       "      <td>0.116563</td>\n",
       "      <td>0.424044</td>\n",
       "    </tr>\n",
       "    <tr>\n",
       "      <th>blueFirstDragon</th>\n",
       "      <td>0.267778</td>\n",
       "      <td>0.133711</td>\n",
       "      <td>0.195663</td>\n",
       "      <td>0.116563</td>\n",
       "      <td>1.000000</td>\n",
       "      <td>0.163540</td>\n",
       "    </tr>\n",
       "    <tr>\n",
       "      <th>blueFirstInhibitor</th>\n",
       "      <td>0.637521</td>\n",
       "      <td>0.146766</td>\n",
       "      <td>0.344918</td>\n",
       "      <td>0.424044</td>\n",
       "      <td>0.163540</td>\n",
       "      <td>1.000000</td>\n",
       "    </tr>\n",
       "  </tbody>\n",
       "</table>\n",
       "</div>"
      ],
      "text/plain": [
       "                    blueWins  blueFirstBlood  blueFirstTower  blueFirstBaron  \\\n",
       "blueWins            1.000000        0.206442        0.449065        0.366722   \n",
       "blueFirstBlood      0.206442        1.000000        0.209255        0.057685   \n",
       "blueFirstTower      0.449065        0.209255        1.000000        0.134875   \n",
       "blueFirstBaron      0.366722        0.057685        0.134875        1.000000   \n",
       "blueFirstDragon     0.267778        0.133711        0.195663        0.116563   \n",
       "blueFirstInhibitor  0.637521        0.146766        0.344918        0.424044   \n",
       "\n",
       "                    blueFirstDragon  blueFirstInhibitor  \n",
       "blueWins                   0.267778            0.637521  \n",
       "blueFirstBlood             0.133711            0.146766  \n",
       "blueFirstTower             0.195663            0.344918  \n",
       "blueFirstBaron             0.116563            0.424044  \n",
       "blueFirstDragon            1.000000            0.163540  \n",
       "blueFirstInhibitor         0.163540            1.000000  "
      ]
     },
     "execution_count": 28,
     "metadata": {},
     "output_type": "execute_result"
    }
   ],
   "source": [
    "# Only the boolean data\n",
    "C_booldata = C_data.iloc[:,2:8]\n",
    "C_booldata.corr()"
   ]
  },
  {
   "cell_type": "markdown",
   "metadata": {},
   "source": [
    "If we take a look at the first row/column of the correlation matrix, we can notice that all five of the \"First\" variables have a positive correlation with the outcome of the game; that is, if you get the first kill/tower/baron etc, it is likely that it would positively affect the outcome of the game. Some of the \"First\" variables seem to be stronger than others, namely \"FirstTower\" and \"FirstInhibitor\". If we compute the probobabilty that the team will win the game when they take down the first tower or the inhibitor,"
   ]
  },
  {
   "cell_type": "code",
   "execution_count": 29,
   "metadata": {},
   "outputs": [
    {
     "data": {
      "text/html": [
       "<div>\n",
       "<style scoped>\n",
       "    .dataframe tbody tr th:only-of-type {\n",
       "        vertical-align: middle;\n",
       "    }\n",
       "\n",
       "    .dataframe tbody tr th {\n",
       "        vertical-align: top;\n",
       "    }\n",
       "\n",
       "    .dataframe thead th {\n",
       "        text-align: right;\n",
       "    }\n",
       "</style>\n",
       "<table border=\"1\" class=\"dataframe\">\n",
       "  <thead>\n",
       "    <tr style=\"text-align: right;\">\n",
       "      <th></th>\n",
       "      <th>blueWins</th>\n",
       "      <th>blueFirstBlood</th>\n",
       "      <th>blueFirstTower</th>\n",
       "      <th>blueFirstBaron</th>\n",
       "      <th>blueFirstDragon</th>\n",
       "      <th>blueFirstInhibitor</th>\n",
       "    </tr>\n",
       "  </thead>\n",
       "  <tbody>\n",
       "    <tr>\n",
       "      <th>count</th>\n",
       "      <td>1414100.00</td>\n",
       "      <td>1414100.00</td>\n",
       "      <td>1414100.0</td>\n",
       "      <td>1414100.00</td>\n",
       "      <td>1414100.00</td>\n",
       "      <td>1414100.00</td>\n",
       "    </tr>\n",
       "    <tr>\n",
       "      <th>mean</th>\n",
       "      <td>71.34</td>\n",
       "      <td>60.29</td>\n",
       "      <td>100.0</td>\n",
       "      <td>29.91</td>\n",
       "      <td>49.76</td>\n",
       "      <td>52.51</td>\n",
       "    </tr>\n",
       "    <tr>\n",
       "      <th>std</th>\n",
       "      <td>45.22</td>\n",
       "      <td>48.93</td>\n",
       "      <td>0.0</td>\n",
       "      <td>45.79</td>\n",
       "      <td>50.00</td>\n",
       "      <td>49.94</td>\n",
       "    </tr>\n",
       "    <tr>\n",
       "      <th>min</th>\n",
       "      <td>0.00</td>\n",
       "      <td>0.00</td>\n",
       "      <td>100.0</td>\n",
       "      <td>0.00</td>\n",
       "      <td>0.00</td>\n",
       "      <td>0.00</td>\n",
       "    </tr>\n",
       "    <tr>\n",
       "      <th>25%</th>\n",
       "      <td>0.00</td>\n",
       "      <td>0.00</td>\n",
       "      <td>100.0</td>\n",
       "      <td>0.00</td>\n",
       "      <td>0.00</td>\n",
       "      <td>0.00</td>\n",
       "    </tr>\n",
       "    <tr>\n",
       "      <th>50%</th>\n",
       "      <td>100.00</td>\n",
       "      <td>100.00</td>\n",
       "      <td>100.0</td>\n",
       "      <td>0.00</td>\n",
       "      <td>0.00</td>\n",
       "      <td>100.00</td>\n",
       "    </tr>\n",
       "    <tr>\n",
       "      <th>75%</th>\n",
       "      <td>100.00</td>\n",
       "      <td>100.00</td>\n",
       "      <td>100.0</td>\n",
       "      <td>100.00</td>\n",
       "      <td>100.00</td>\n",
       "      <td>100.00</td>\n",
       "    </tr>\n",
       "    <tr>\n",
       "      <th>max</th>\n",
       "      <td>100.00</td>\n",
       "      <td>100.00</td>\n",
       "      <td>100.0</td>\n",
       "      <td>100.00</td>\n",
       "      <td>100.00</td>\n",
       "      <td>100.00</td>\n",
       "    </tr>\n",
       "  </tbody>\n",
       "</table>\n",
       "</div>"
      ],
      "text/plain": [
       "         blueWins  blueFirstBlood  blueFirstTower  blueFirstBaron  \\\n",
       "count  1414100.00      1414100.00       1414100.0      1414100.00   \n",
       "mean        71.34           60.29           100.0           29.91   \n",
       "std         45.22           48.93             0.0           45.79   \n",
       "min          0.00            0.00           100.0            0.00   \n",
       "25%          0.00            0.00           100.0            0.00   \n",
       "50%        100.00          100.00           100.0            0.00   \n",
       "75%        100.00          100.00           100.0          100.00   \n",
       "max        100.00          100.00           100.0          100.00   \n",
       "\n",
       "       blueFirstDragon  blueFirstInhibitor  \n",
       "count       1414100.00          1414100.00  \n",
       "mean             49.76               52.51  \n",
       "std              50.00               49.94  \n",
       "min               0.00                0.00  \n",
       "25%               0.00                0.00  \n",
       "50%               0.00              100.00  \n",
       "75%             100.00              100.00  \n",
       "max             100.00              100.00  "
      ]
     },
     "execution_count": 29,
     "metadata": {},
     "output_type": "execute_result"
    }
   ],
   "source": [
    "C_booldata[C_booldata[\"blueFirstTower\"] == 1].describe().round(4)*100"
   ]
  },
  {
   "cell_type": "code",
   "execution_count": 30,
   "metadata": {},
   "outputs": [
    {
     "data": {
      "text/html": [
       "<div>\n",
       "<style scoped>\n",
       "    .dataframe tbody tr th:only-of-type {\n",
       "        vertical-align: middle;\n",
       "    }\n",
       "\n",
       "    .dataframe tbody tr th {\n",
       "        vertical-align: top;\n",
       "    }\n",
       "\n",
       "    .dataframe thead th {\n",
       "        text-align: right;\n",
       "    }\n",
       "</style>\n",
       "<table border=\"1\" class=\"dataframe\">\n",
       "  <thead>\n",
       "    <tr style=\"text-align: right;\">\n",
       "      <th></th>\n",
       "      <th>blueWins</th>\n",
       "      <th>blueFirstBlood</th>\n",
       "      <th>blueFirstTower</th>\n",
       "      <th>blueFirstBaron</th>\n",
       "      <th>blueFirstDragon</th>\n",
       "      <th>blueFirstInhibitor</th>\n",
       "    </tr>\n",
       "  </thead>\n",
       "  <tbody>\n",
       "    <tr>\n",
       "      <th>count</th>\n",
       "      <td>987700.00</td>\n",
       "      <td>987700.00</td>\n",
       "      <td>987700.00</td>\n",
       "      <td>987700.00</td>\n",
       "      <td>987700.00</td>\n",
       "      <td>987700.0</td>\n",
       "    </tr>\n",
       "    <tr>\n",
       "      <th>mean</th>\n",
       "      <td>91.86</td>\n",
       "      <td>59.99</td>\n",
       "      <td>75.17</td>\n",
       "      <td>48.32</td>\n",
       "      <td>51.18</td>\n",
       "      <td>100.0</td>\n",
       "    </tr>\n",
       "    <tr>\n",
       "      <th>std</th>\n",
       "      <td>27.35</td>\n",
       "      <td>48.99</td>\n",
       "      <td>43.20</td>\n",
       "      <td>49.97</td>\n",
       "      <td>49.99</td>\n",
       "      <td>0.0</td>\n",
       "    </tr>\n",
       "    <tr>\n",
       "      <th>min</th>\n",
       "      <td>0.00</td>\n",
       "      <td>0.00</td>\n",
       "      <td>0.00</td>\n",
       "      <td>0.00</td>\n",
       "      <td>0.00</td>\n",
       "      <td>100.0</td>\n",
       "    </tr>\n",
       "    <tr>\n",
       "      <th>25%</th>\n",
       "      <td>100.00</td>\n",
       "      <td>0.00</td>\n",
       "      <td>100.00</td>\n",
       "      <td>0.00</td>\n",
       "      <td>0.00</td>\n",
       "      <td>100.0</td>\n",
       "    </tr>\n",
       "    <tr>\n",
       "      <th>50%</th>\n",
       "      <td>100.00</td>\n",
       "      <td>100.00</td>\n",
       "      <td>100.00</td>\n",
       "      <td>0.00</td>\n",
       "      <td>100.00</td>\n",
       "      <td>100.0</td>\n",
       "    </tr>\n",
       "    <tr>\n",
       "      <th>75%</th>\n",
       "      <td>100.00</td>\n",
       "      <td>100.00</td>\n",
       "      <td>100.00</td>\n",
       "      <td>100.00</td>\n",
       "      <td>100.00</td>\n",
       "      <td>100.0</td>\n",
       "    </tr>\n",
       "    <tr>\n",
       "      <th>max</th>\n",
       "      <td>100.00</td>\n",
       "      <td>100.00</td>\n",
       "      <td>100.00</td>\n",
       "      <td>100.00</td>\n",
       "      <td>100.00</td>\n",
       "      <td>100.0</td>\n",
       "    </tr>\n",
       "  </tbody>\n",
       "</table>\n",
       "</div>"
      ],
      "text/plain": [
       "        blueWins  blueFirstBlood  blueFirstTower  blueFirstBaron  \\\n",
       "count  987700.00       987700.00       987700.00       987700.00   \n",
       "mean       91.86           59.99           75.17           48.32   \n",
       "std        27.35           48.99           43.20           49.97   \n",
       "min         0.00            0.00            0.00            0.00   \n",
       "25%       100.00            0.00          100.00            0.00   \n",
       "50%       100.00          100.00          100.00            0.00   \n",
       "75%       100.00          100.00          100.00          100.00   \n",
       "max       100.00          100.00          100.00          100.00   \n",
       "\n",
       "       blueFirstDragon  blueFirstInhibitor  \n",
       "count        987700.00            987700.0  \n",
       "mean             51.18               100.0  \n",
       "std              49.99                 0.0  \n",
       "min               0.00               100.0  \n",
       "25%               0.00               100.0  \n",
       "50%             100.00               100.0  \n",
       "75%             100.00               100.0  \n",
       "max             100.00               100.0  "
      ]
     },
     "execution_count": 30,
     "metadata": {},
     "output_type": "execute_result"
    }
   ],
   "source": [
    "C_booldata[C_booldata[\"blueFirstInhibitor\"] == 1].describe().round(4)*100"
   ]
  },
  {
   "cell_type": "markdown",
   "metadata": {},
   "source": [
    "This result is very intesting.\n",
    "First off, when a team takes down the first tower, their probability to win the game is around **71.34%**; when they take the first inhibitor, it is **91.86%** -- which means that they probably won the game already. \n",
    "\n",
    "What's far more intersting is the correlation between \"*FirstTower*\" and \"*FirstInhibitor*\"; When a team takes the first tower down, **the probability that they will also take down the first inhibitor is 52.51%**, so we can say that taking the first tower down doesn't affect the probability to take the first inhibitor. However, **75.17% of the team that took the first inhibitor down also previously took the first tower down.**\n",
    "\n",
    "This is something deeper, but against the common belief, taking the first tower down had little correlation with getting the first dragon; this might be caused because challenger tier players get their first dragon before taking the tower town."
   ]
  },
  {
   "cell_type": "markdown",
   "metadata": {},
   "source": [
    "We then take a look at the data from lower tier games."
   ]
  },
  {
   "cell_type": "code",
   "execution_count": 31,
   "metadata": {},
   "outputs": [
    {
     "data": {
      "text/html": [
       "<div>\n",
       "<style scoped>\n",
       "    .dataframe tbody tr th:only-of-type {\n",
       "        vertical-align: middle;\n",
       "    }\n",
       "\n",
       "    .dataframe tbody tr th {\n",
       "        vertical-align: top;\n",
       "    }\n",
       "\n",
       "    .dataframe thead th {\n",
       "        text-align: right;\n",
       "    }\n",
       "</style>\n",
       "<table border=\"1\" class=\"dataframe\">\n",
       "  <thead>\n",
       "    <tr style=\"text-align: right;\">\n",
       "      <th></th>\n",
       "      <th>blueWins</th>\n",
       "      <th>blueFirstBlood</th>\n",
       "      <th>blueFirstTower</th>\n",
       "      <th>blueFirstBaron</th>\n",
       "      <th>blueFirstDragon</th>\n",
       "      <th>blueFirstInhibitor</th>\n",
       "    </tr>\n",
       "  </thead>\n",
       "  <tbody>\n",
       "    <tr>\n",
       "      <th>blueWins</th>\n",
       "      <td>1.000000</td>\n",
       "      <td>0.202711</td>\n",
       "      <td>0.459949</td>\n",
       "      <td>0.361664</td>\n",
       "      <td>0.264384</td>\n",
       "      <td>0.650728</td>\n",
       "    </tr>\n",
       "    <tr>\n",
       "      <th>blueFirstBlood</th>\n",
       "      <td>0.202711</td>\n",
       "      <td>1.000000</td>\n",
       "      <td>0.212475</td>\n",
       "      <td>0.056349</td>\n",
       "      <td>0.140685</td>\n",
       "      <td>0.153840</td>\n",
       "    </tr>\n",
       "    <tr>\n",
       "      <th>blueFirstTower</th>\n",
       "      <td>0.459949</td>\n",
       "      <td>0.212475</td>\n",
       "      <td>1.000000</td>\n",
       "      <td>0.138477</td>\n",
       "      <td>0.204402</td>\n",
       "      <td>0.377750</td>\n",
       "    </tr>\n",
       "    <tr>\n",
       "      <th>blueFirstBaron</th>\n",
       "      <td>0.361664</td>\n",
       "      <td>0.056349</td>\n",
       "      <td>0.138477</td>\n",
       "      <td>1.000000</td>\n",
       "      <td>0.130357</td>\n",
       "      <td>0.400443</td>\n",
       "    </tr>\n",
       "    <tr>\n",
       "      <th>blueFirstDragon</th>\n",
       "      <td>0.264384</td>\n",
       "      <td>0.140685</td>\n",
       "      <td>0.204402</td>\n",
       "      <td>0.130357</td>\n",
       "      <td>1.000000</td>\n",
       "      <td>0.166439</td>\n",
       "    </tr>\n",
       "    <tr>\n",
       "      <th>blueFirstInhibitor</th>\n",
       "      <td>0.650728</td>\n",
       "      <td>0.153840</td>\n",
       "      <td>0.377750</td>\n",
       "      <td>0.400443</td>\n",
       "      <td>0.166439</td>\n",
       "      <td>1.000000</td>\n",
       "    </tr>\n",
       "  </tbody>\n",
       "</table>\n",
       "</div>"
      ],
      "text/plain": [
       "                    blueWins  blueFirstBlood  blueFirstTower  blueFirstBaron  \\\n",
       "blueWins            1.000000        0.202711        0.459949        0.361664   \n",
       "blueFirstBlood      0.202711        1.000000        0.212475        0.056349   \n",
       "blueFirstTower      0.459949        0.212475        1.000000        0.138477   \n",
       "blueFirstBaron      0.361664        0.056349        0.138477        1.000000   \n",
       "blueFirstDragon     0.264384        0.140685        0.204402        0.130357   \n",
       "blueFirstInhibitor  0.650728        0.153840        0.377750        0.400443   \n",
       "\n",
       "                    blueFirstDragon  blueFirstInhibitor  \n",
       "blueWins                   0.264384            0.650728  \n",
       "blueFirstBlood             0.140685            0.153840  \n",
       "blueFirstTower             0.204402            0.377750  \n",
       "blueFirstBaron             0.130357            0.400443  \n",
       "blueFirstDragon            1.000000            0.166439  \n",
       "blueFirstInhibitor         0.166439            1.000000  "
      ]
     },
     "execution_count": 31,
     "metadata": {},
     "output_type": "execute_result"
    }
   ],
   "source": [
    "# Same operations for different tiers\n",
    "GM_booldata = GM_data.iloc[:,2:8]\n",
    "M_booldata = M_data.iloc[:,2:8]\n",
    "\n",
    "GM_booldata.corr()"
   ]
  },
  {
   "cell_type": "code",
   "execution_count": 32,
   "metadata": {},
   "outputs": [
    {
     "data": {
      "text/html": [
       "<div>\n",
       "<style scoped>\n",
       "    .dataframe tbody tr th:only-of-type {\n",
       "        vertical-align: middle;\n",
       "    }\n",
       "\n",
       "    .dataframe tbody tr th {\n",
       "        vertical-align: top;\n",
       "    }\n",
       "\n",
       "    .dataframe thead th {\n",
       "        text-align: right;\n",
       "    }\n",
       "</style>\n",
       "<table border=\"1\" class=\"dataframe\">\n",
       "  <thead>\n",
       "    <tr style=\"text-align: right;\">\n",
       "      <th></th>\n",
       "      <th>blueWins</th>\n",
       "      <th>blueFirstBlood</th>\n",
       "      <th>blueFirstTower</th>\n",
       "      <th>blueFirstBaron</th>\n",
       "      <th>blueFirstDragon</th>\n",
       "      <th>blueFirstInhibitor</th>\n",
       "    </tr>\n",
       "  </thead>\n",
       "  <tbody>\n",
       "    <tr>\n",
       "      <th>blueWins</th>\n",
       "      <td>1.000000</td>\n",
       "      <td>0.208979</td>\n",
       "      <td>0.472211</td>\n",
       "      <td>0.369585</td>\n",
       "      <td>0.276402</td>\n",
       "      <td>0.668425</td>\n",
       "    </tr>\n",
       "    <tr>\n",
       "      <th>blueFirstBlood</th>\n",
       "      <td>0.208979</td>\n",
       "      <td>1.000000</td>\n",
       "      <td>0.220634</td>\n",
       "      <td>0.050738</td>\n",
       "      <td>0.142845</td>\n",
       "      <td>0.157705</td>\n",
       "    </tr>\n",
       "    <tr>\n",
       "      <th>blueFirstTower</th>\n",
       "      <td>0.472211</td>\n",
       "      <td>0.220634</td>\n",
       "      <td>1.000000</td>\n",
       "      <td>0.145523</td>\n",
       "      <td>0.224847</td>\n",
       "      <td>0.397007</td>\n",
       "    </tr>\n",
       "    <tr>\n",
       "      <th>blueFirstBaron</th>\n",
       "      <td>0.369585</td>\n",
       "      <td>0.050738</td>\n",
       "      <td>0.145523</td>\n",
       "      <td>1.000000</td>\n",
       "      <td>0.132850</td>\n",
       "      <td>0.410164</td>\n",
       "    </tr>\n",
       "    <tr>\n",
       "      <th>blueFirstDragon</th>\n",
       "      <td>0.276402</td>\n",
       "      <td>0.142845</td>\n",
       "      <td>0.224847</td>\n",
       "      <td>0.132850</td>\n",
       "      <td>1.000000</td>\n",
       "      <td>0.186230</td>\n",
       "    </tr>\n",
       "    <tr>\n",
       "      <th>blueFirstInhibitor</th>\n",
       "      <td>0.668425</td>\n",
       "      <td>0.157705</td>\n",
       "      <td>0.397007</td>\n",
       "      <td>0.410164</td>\n",
       "      <td>0.186230</td>\n",
       "      <td>1.000000</td>\n",
       "    </tr>\n",
       "  </tbody>\n",
       "</table>\n",
       "</div>"
      ],
      "text/plain": [
       "                    blueWins  blueFirstBlood  blueFirstTower  blueFirstBaron  \\\n",
       "blueWins            1.000000        0.208979        0.472211        0.369585   \n",
       "blueFirstBlood      0.208979        1.000000        0.220634        0.050738   \n",
       "blueFirstTower      0.472211        0.220634        1.000000        0.145523   \n",
       "blueFirstBaron      0.369585        0.050738        0.145523        1.000000   \n",
       "blueFirstDragon     0.276402        0.142845        0.224847        0.132850   \n",
       "blueFirstInhibitor  0.668425        0.157705        0.397007        0.410164   \n",
       "\n",
       "                    blueFirstDragon  blueFirstInhibitor  \n",
       "blueWins                   0.276402            0.668425  \n",
       "blueFirstBlood             0.142845            0.157705  \n",
       "blueFirstTower             0.224847            0.397007  \n",
       "blueFirstBaron             0.132850            0.410164  \n",
       "blueFirstDragon            1.000000            0.186230  \n",
       "blueFirstInhibitor         0.186230            1.000000  "
      ]
     },
     "execution_count": 32,
     "metadata": {},
     "output_type": "execute_result"
    }
   ],
   "source": [
    "M_booldata.corr()"
   ]
  },
  {
   "cell_type": "markdown",
   "metadata": {},
   "source": [
    "Shape of the correlation matrices look approximately the same. Now if we compare the FirstTower and FirstInhibitor statistics:"
   ]
  },
  {
   "cell_type": "code",
   "execution_count": 33,
   "metadata": {},
   "outputs": [
    {
     "name": "stdout",
     "output_type": "stream",
     "text": [
      "Winrate when first tower down \n",
      "\n",
      "Challenger:  71.34 %\n",
      "Grandmaster:  71.84 %\n",
      "Master:  72.5 %\n",
      "\n",
      "Winrate when first inhib down \n",
      "\n",
      "Challenger:  91.86 %\n",
      "Grandmaster:  91.01 %\n",
      "Master:  91.51 %\n"
     ]
    }
   ],
   "source": [
    "C_FT = C_booldata[C_booldata[\"blueFirstTower\"] == 1].mean().round(4)*100\n",
    "C_FI = C_booldata[C_booldata[\"blueFirstInhibitor\"] == 1].mean().round(4)*100\n",
    "\n",
    "GM_FT = GM_booldata[GM_booldata[\"blueFirstTower\"] == 1].mean().round(4)*100\n",
    "GM_FI = GM_booldata[GM_booldata[\"blueFirstInhibitor\"] == 1].mean().round(4)*100\n",
    "\n",
    "M_FT = M_booldata[M_booldata[\"blueFirstTower\"] == 1].mean().round(4)*100\n",
    "M_FI = M_booldata[M_booldata[\"blueFirstInhibitor\"] == 1].mean().round(4)*100\n",
    "\n",
    "print(\"Winrate when first tower down \\n\")\n",
    "print(\"Challenger: \", C_FT[0], \"%\")\n",
    "print(\"Grandmaster: \", GM_FT[0], \"%\")\n",
    "print(\"Master: \", M_FT[0], \"%\\n\")\n",
    "print(\"Winrate when first inhib down \\n\")\n",
    "print(\"Challenger: \", C_FI[0], \"%\")\n",
    "print(\"Grandmaster: \", GM_FI[0], \"%\")\n",
    "print(\"Master: \", M_FI[0], \"%\")"
   ]
  },
  {
   "cell_type": "markdown",
   "metadata": {},
   "source": [
    "It would be better if we had more tiers to compare to, but for now we can say that taking the first tower is less important for higher-tier games, while taking the first inhibitor down is more important.\n",
    "\n",
    "In conclusion, for games in all three tiers, **taking the first inhibitor down** was the most important factor among the six boolean variables, as **you would win 9 out of 10 games if you take the first inhibitor down**."
   ]
  },
  {
   "cell_type": "markdown",
   "metadata": {},
   "source": [
    "#### 3.2.2: Numerical variables"
   ]
  },
  {
   "cell_type": "code",
   "execution_count": 34,
   "metadata": {},
   "outputs": [
    {
     "data": {
      "text/html": [
       "<div>\n",
       "<style scoped>\n",
       "    .dataframe tbody tr th:only-of-type {\n",
       "        vertical-align: middle;\n",
       "    }\n",
       "\n",
       "    .dataframe tbody tr th {\n",
       "        vertical-align: top;\n",
       "    }\n",
       "\n",
       "    .dataframe thead th {\n",
       "        text-align: right;\n",
       "    }\n",
       "</style>\n",
       "<table border=\"1\" class=\"dataframe\">\n",
       "  <thead>\n",
       "    <tr style=\"text-align: right;\">\n",
       "      <th></th>\n",
       "      <th>blueBaronKills</th>\n",
       "      <th>blueTowerKills</th>\n",
       "      <th>blueInhibitorKills</th>\n",
       "      <th>blueWardPlaced</th>\n",
       "      <th>blueWardkills</th>\n",
       "      <th>blueKills</th>\n",
       "      <th>blueDeath</th>\n",
       "      <th>blueAssist</th>\n",
       "      <th>blueChampionDamageDealt</th>\n",
       "      <th>blueTotalGold</th>\n",
       "      <th>blueTotalMinionKills</th>\n",
       "      <th>blueTotalLevel</th>\n",
       "      <th>blueAvgLevel</th>\n",
       "      <th>blueJungleMinionKills</th>\n",
       "      <th>blueKillingSpree</th>\n",
       "      <th>blueTotalHeal</th>\n",
       "      <th>blueObjectDamageDealt</th>\n",
       "    </tr>\n",
       "  </thead>\n",
       "  <tbody>\n",
       "    <tr>\n",
       "      <th>0</th>\n",
       "      <td>0</td>\n",
       "      <td>0</td>\n",
       "      <td>0</td>\n",
       "      <td>38</td>\n",
       "      <td>13</td>\n",
       "      <td>15</td>\n",
       "      <td>31</td>\n",
       "      <td>22</td>\n",
       "      <td>56039</td>\n",
       "      <td>37001</td>\n",
       "      <td>440</td>\n",
       "      <td>56</td>\n",
       "      <td>11.2</td>\n",
       "      <td>105</td>\n",
       "      <td>4</td>\n",
       "      <td>31035</td>\n",
       "      <td>5675</td>\n",
       "    </tr>\n",
       "    <tr>\n",
       "      <th>1</th>\n",
       "      <td>0</td>\n",
       "      <td>4</td>\n",
       "      <td>0</td>\n",
       "      <td>57</td>\n",
       "      <td>18</td>\n",
       "      <td>19</td>\n",
       "      <td>8</td>\n",
       "      <td>31</td>\n",
       "      <td>60243</td>\n",
       "      <td>41072</td>\n",
       "      <td>531</td>\n",
       "      <td>63</td>\n",
       "      <td>12.6</td>\n",
       "      <td>111</td>\n",
       "      <td>3</td>\n",
       "      <td>26397</td>\n",
       "      <td>45303</td>\n",
       "    </tr>\n",
       "    <tr>\n",
       "      <th>2</th>\n",
       "      <td>0</td>\n",
       "      <td>0</td>\n",
       "      <td>0</td>\n",
       "      <td>28</td>\n",
       "      <td>7</td>\n",
       "      <td>5</td>\n",
       "      <td>20</td>\n",
       "      <td>8</td>\n",
       "      <td>24014</td>\n",
       "      <td>22929</td>\n",
       "      <td>306</td>\n",
       "      <td>42</td>\n",
       "      <td>8.4</td>\n",
       "      <td>64</td>\n",
       "      <td>0</td>\n",
       "      <td>6567</td>\n",
       "      <td>5651</td>\n",
       "    </tr>\n",
       "    <tr>\n",
       "      <th>3</th>\n",
       "      <td>1</td>\n",
       "      <td>2</td>\n",
       "      <td>0</td>\n",
       "      <td>129</td>\n",
       "      <td>39</td>\n",
       "      <td>26</td>\n",
       "      <td>36</td>\n",
       "      <td>45</td>\n",
       "      <td>101607</td>\n",
       "      <td>63447</td>\n",
       "      <td>774</td>\n",
       "      <td>80</td>\n",
       "      <td>16.0</td>\n",
       "      <td>226</td>\n",
       "      <td>3</td>\n",
       "      <td>24718</td>\n",
       "      <td>31019</td>\n",
       "    </tr>\n",
       "    <tr>\n",
       "      <th>4</th>\n",
       "      <td>2</td>\n",
       "      <td>11</td>\n",
       "      <td>3</td>\n",
       "      <td>114</td>\n",
       "      <td>35</td>\n",
       "      <td>27</td>\n",
       "      <td>40</td>\n",
       "      <td>47</td>\n",
       "      <td>134826</td>\n",
       "      <td>74955</td>\n",
       "      <td>831</td>\n",
       "      <td>83</td>\n",
       "      <td>16.6</td>\n",
       "      <td>252</td>\n",
       "      <td>5</td>\n",
       "      <td>37161</td>\n",
       "      <td>95287</td>\n",
       "    </tr>\n",
       "  </tbody>\n",
       "</table>\n",
       "</div>"
      ],
      "text/plain": [
       "   blueBaronKills  blueTowerKills  blueInhibitorKills  blueWardPlaced  \\\n",
       "0               0               0                   0              38   \n",
       "1               0               4                   0              57   \n",
       "2               0               0                   0              28   \n",
       "3               1               2                   0             129   \n",
       "4               2              11                   3             114   \n",
       "\n",
       "   blueWardkills  blueKills  blueDeath  blueAssist  blueChampionDamageDealt  \\\n",
       "0             13         15         31          22                    56039   \n",
       "1             18         19          8          31                    60243   \n",
       "2              7          5         20           8                    24014   \n",
       "3             39         26         36          45                   101607   \n",
       "4             35         27         40          47                   134826   \n",
       "\n",
       "   blueTotalGold  blueTotalMinionKills  blueTotalLevel  blueAvgLevel  \\\n",
       "0          37001                   440              56          11.2   \n",
       "1          41072                   531              63          12.6   \n",
       "2          22929                   306              42           8.4   \n",
       "3          63447                   774              80          16.0   \n",
       "4          74955                   831              83          16.6   \n",
       "\n",
       "   blueJungleMinionKills  blueKillingSpree  blueTotalHeal  \\\n",
       "0                    105                 4          31035   \n",
       "1                    111                 3          26397   \n",
       "2                     64                 0           6567   \n",
       "3                    226                 3          24718   \n",
       "4                    252                 5          37161   \n",
       "\n",
       "   blueObjectDamageDealt  \n",
       "0                   5675  \n",
       "1                  45303  \n",
       "2                   5651  \n",
       "3                  31019  \n",
       "4                  95287  "
      ]
     },
     "execution_count": 34,
     "metadata": {},
     "output_type": "execute_result"
    }
   ],
   "source": [
    "# Numerical data\n",
    "C_numdata = C_data.iloc[:,9:26]\n",
    "C_numdata.head()"
   ]
  },
  {
   "cell_type": "markdown",
   "metadata": {},
   "source": [
    "On the same dataset, columns 9 ~ 26 and 33 ~ 50 display numerical statistics that are important in the game. Obviously, we can't use all of the 34 features for our model, so let's go through the process of feature selection first."
   ]
  },
  {
   "cell_type": "code",
   "execution_count": 35,
   "metadata": {},
   "outputs": [
    {
     "data": {
      "text/html": [
       "<div>\n",
       "<style scoped>\n",
       "    .dataframe tbody tr th:only-of-type {\n",
       "        vertical-align: middle;\n",
       "    }\n",
       "\n",
       "    .dataframe tbody tr th {\n",
       "        vertical-align: top;\n",
       "    }\n",
       "\n",
       "    .dataframe thead th {\n",
       "        text-align: right;\n",
       "    }\n",
       "</style>\n",
       "<table border=\"1\" class=\"dataframe\">\n",
       "  <thead>\n",
       "    <tr style=\"text-align: right;\">\n",
       "      <th></th>\n",
       "      <th>blueWins</th>\n",
       "      <th>blueTowerKills</th>\n",
       "      <th>blueInhibitorKills</th>\n",
       "      <th>blueObjectDamageDealt</th>\n",
       "      <th>blueKills</th>\n",
       "      <th>blueKillingSpree</th>\n",
       "      <th>blueAssist</th>\n",
       "      <th>blueBaronKills</th>\n",
       "      <th>blueTotalGold</th>\n",
       "      <th>blueAvgLevel</th>\n",
       "      <th>blueTotalLevel</th>\n",
       "      <th>blueTotalHeal</th>\n",
       "      <th>blueJungleMinionKills</th>\n",
       "      <th>blueChampionDamageDealt</th>\n",
       "      <th>blueTotalMinionKills</th>\n",
       "      <th>blueWardkills</th>\n",
       "      <th>blueWardPlaced</th>\n",
       "      <th>blueDeath</th>\n",
       "    </tr>\n",
       "  </thead>\n",
       "  <tbody>\n",
       "    <tr>\n",
       "      <th>blueWins</th>\n",
       "      <td>1.0</td>\n",
       "      <td>0.708405</td>\n",
       "      <td>0.554367</td>\n",
       "      <td>0.525094</td>\n",
       "      <td>0.453521</td>\n",
       "      <td>0.420451</td>\n",
       "      <td>0.372974</td>\n",
       "      <td>0.355048</td>\n",
       "      <td>0.276481</td>\n",
       "      <td>0.226127</td>\n",
       "      <td>0.226127</td>\n",
       "      <td>0.215695</td>\n",
       "      <td>0.207726</td>\n",
       "      <td>0.18018</td>\n",
       "      <td>0.078853</td>\n",
       "      <td>0.070485</td>\n",
       "      <td>0.037542</td>\n",
       "      <td>-0.439782</td>\n",
       "    </tr>\n",
       "  </tbody>\n",
       "</table>\n",
       "</div>"
      ],
      "text/plain": [
       "          blueWins  blueTowerKills  blueInhibitorKills  blueObjectDamageDealt  \\\n",
       "blueWins       1.0        0.708405            0.554367               0.525094   \n",
       "\n",
       "          blueKills  blueKillingSpree  blueAssist  blueBaronKills  \\\n",
       "blueWins   0.453521          0.420451    0.372974        0.355048   \n",
       "\n",
       "          blueTotalGold  blueAvgLevel  blueTotalLevel  blueTotalHeal  \\\n",
       "blueWins       0.276481      0.226127        0.226127       0.215695   \n",
       "\n",
       "          blueJungleMinionKills  blueChampionDamageDealt  \\\n",
       "blueWins               0.207726                  0.18018   \n",
       "\n",
       "          blueTotalMinionKills  blueWardkills  blueWardPlaced  blueDeath  \n",
       "blueWins              0.078853       0.070485        0.037542  -0.439782  "
      ]
     },
     "execution_count": 35,
     "metadata": {},
     "output_type": "execute_result"
    }
   ],
   "source": [
    "# Correlation matrix of numerical features\n",
    "C_numdata['blueWins'] = C_data['blueWins']\n",
    "C_wins = C_numdata.corr()[17:18]\n",
    "C_wins.sort_values('blueWins', axis = 1, ascending=False)"
   ]
  },
  {
   "cell_type": "markdown",
   "metadata": {},
   "source": [
    "If we look at the correlation matrix, the top three features are related to **'objectives'**, i.e. taking down enemy buildings. Kills come next, gold and level follows. As expected, AvgLevel and TotalLevel contain the exact same information because the average level is simply the total level divided by the number of players. I will select the top 9 features, including up to blueAvgLevel.\n",
    "\n",
    "But what's also interesting is 'blueDeaths'. Although it has a negative correlation, its magnitude is big, so it contains a lot of information. I will include 'blueDeaths' (which should be equal to redKills in most cases) as our tenth feature.\n",
    "\n",
    "Because LoL is a competitive game, it is also important that your team plays better relative to the opposing team, not just in an objective manner. So I will try adding two more 'ratio' variables for our correlation matrix, namely goldRatio and levelRatio (information about kills is already contained in 'blueKills' and 'blueDeaths')"
   ]
  },
  {
   "cell_type": "code",
   "execution_count": 36,
   "metadata": {},
   "outputs": [
    {
     "name": "stderr",
     "output_type": "stream",
     "text": [
      "<ipython-input-36-14a03fddef9f>:2: SettingWithCopyWarning: \n",
      "A value is trying to be set on a copy of a slice from a DataFrame.\n",
      "Try using .loc[row_indexer,col_indexer] = value instead\n",
      "\n",
      "See the caveats in the documentation: https://pandas.pydata.org/pandas-docs/stable/user_guide/indexing.html#returning-a-view-versus-a-copy\n",
      "  C_relVar['goldRatio'] = C_data['blueTotalGold'] / C_data['redTotalGold']\n",
      "<ipython-input-36-14a03fddef9f>:3: SettingWithCopyWarning: \n",
      "A value is trying to be set on a copy of a slice from a DataFrame.\n",
      "Try using .loc[row_indexer,col_indexer] = value instead\n",
      "\n",
      "See the caveats in the documentation: https://pandas.pydata.org/pandas-docs/stable/user_guide/indexing.html#returning-a-view-versus-a-copy\n",
      "  C_relVar['levelRatio'] = C_data['blueAvgLevel'] / C_data['redAvgLevel']\n"
     ]
    },
    {
     "data": {
      "text/html": [
       "<div>\n",
       "<style scoped>\n",
       "    .dataframe tbody tr th:only-of-type {\n",
       "        vertical-align: middle;\n",
       "    }\n",
       "\n",
       "    .dataframe tbody tr th {\n",
       "        vertical-align: top;\n",
       "    }\n",
       "\n",
       "    .dataframe thead th {\n",
       "        text-align: right;\n",
       "    }\n",
       "</style>\n",
       "<table border=\"1\" class=\"dataframe\">\n",
       "  <thead>\n",
       "    <tr style=\"text-align: right;\">\n",
       "      <th></th>\n",
       "      <th>blueWins</th>\n",
       "      <th>goldRatio</th>\n",
       "      <th>levelRatio</th>\n",
       "    </tr>\n",
       "  </thead>\n",
       "  <tbody>\n",
       "    <tr>\n",
       "      <th>blueWins</th>\n",
       "      <td>1.000000</td>\n",
       "      <td>0.828894</td>\n",
       "      <td>0.831375</td>\n",
       "    </tr>\n",
       "    <tr>\n",
       "      <th>goldRatio</th>\n",
       "      <td>0.828894</td>\n",
       "      <td>1.000000</td>\n",
       "      <td>0.931396</td>\n",
       "    </tr>\n",
       "    <tr>\n",
       "      <th>levelRatio</th>\n",
       "      <td>0.831375</td>\n",
       "      <td>0.931396</td>\n",
       "      <td>1.000000</td>\n",
       "    </tr>\n",
       "  </tbody>\n",
       "</table>\n",
       "</div>"
      ],
      "text/plain": [
       "            blueWins  goldRatio  levelRatio\n",
       "blueWins    1.000000   0.828894    0.831375\n",
       "goldRatio   0.828894   1.000000    0.931396\n",
       "levelRatio  0.831375   0.931396    1.000000"
      ]
     },
     "execution_count": 36,
     "metadata": {},
     "output_type": "execute_result"
    }
   ],
   "source": [
    "# Newly define two relative variables\n",
    "C_relVar = C_numdata.iloc[:,17:18]\n",
    "C_relVar['goldRatio'] = C_data['blueTotalGold'] / C_data['redTotalGold']\n",
    "C_relVar['levelRatio'] = C_data['blueAvgLevel'] / C_data['redAvgLevel']\n",
    "C_relVar.corr()"
   ]
  },
  {
   "cell_type": "markdown",
   "metadata": {},
   "source": [
    "Thankfully goldRatio and levelRatio are both highly correlated to winning the game. We can substitute those two for blueTotalGold and blueAvgLevel. Now let's try fitting a ten-variable logistic regression model for our problem."
   ]
  },
  {
   "cell_type": "code",
   "execution_count": 38,
   "metadata": {},
   "outputs": [
    {
     "data": {
      "text/html": [
       "<div>\n",
       "<style scoped>\n",
       "    .dataframe tbody tr th:only-of-type {\n",
       "        vertical-align: middle;\n",
       "    }\n",
       "\n",
       "    .dataframe tbody tr th {\n",
       "        vertical-align: top;\n",
       "    }\n",
       "\n",
       "    .dataframe thead th {\n",
       "        text-align: right;\n",
       "    }\n",
       "</style>\n",
       "<table border=\"1\" class=\"dataframe\">\n",
       "  <thead>\n",
       "    <tr style=\"text-align: right;\">\n",
       "      <th></th>\n",
       "      <th>blueWins</th>\n",
       "      <th>levelRatio</th>\n",
       "      <th>goldRatio</th>\n",
       "      <th>blueTowerKills</th>\n",
       "      <th>blueInhibitorKills</th>\n",
       "      <th>blueObjectDamageDealt</th>\n",
       "      <th>blueKills</th>\n",
       "      <th>blueDeath</th>\n",
       "      <th>blueKillingSpree</th>\n",
       "      <th>blueAssist</th>\n",
       "      <th>blueBaronKills</th>\n",
       "      <th>blueTotalGold</th>\n",
       "      <th>blueAvgLevel</th>\n",
       "      <th>blueTotalLevel</th>\n",
       "      <th>blueTotalHeal</th>\n",
       "      <th>blueJungleMinionKills</th>\n",
       "      <th>blueChampionDamageDealt</th>\n",
       "      <th>blueTotalMinionKills</th>\n",
       "      <th>blueWardkills</th>\n",
       "      <th>blueWardPlaced</th>\n",
       "    </tr>\n",
       "  </thead>\n",
       "  <tbody>\n",
       "    <tr>\n",
       "      <th>blueWins</th>\n",
       "      <td>1.0</td>\n",
       "      <td>0.831375</td>\n",
       "      <td>0.828894</td>\n",
       "      <td>0.708405</td>\n",
       "      <td>0.554367</td>\n",
       "      <td>0.525094</td>\n",
       "      <td>0.453521</td>\n",
       "      <td>0.439782</td>\n",
       "      <td>0.420451</td>\n",
       "      <td>0.372974</td>\n",
       "      <td>0.355048</td>\n",
       "      <td>0.276481</td>\n",
       "      <td>0.226127</td>\n",
       "      <td>0.226127</td>\n",
       "      <td>0.215695</td>\n",
       "      <td>0.207726</td>\n",
       "      <td>0.18018</td>\n",
       "      <td>0.078853</td>\n",
       "      <td>0.070485</td>\n",
       "      <td>0.037542</td>\n",
       "    </tr>\n",
       "  </tbody>\n",
       "</table>\n",
       "</div>"
      ],
      "text/plain": [
       "          blueWins  levelRatio  goldRatio  blueTowerKills  blueInhibitorKills  \\\n",
       "blueWins       1.0    0.831375   0.828894        0.708405            0.554367   \n",
       "\n",
       "          blueObjectDamageDealt  blueKills  blueDeath  blueKillingSpree  \\\n",
       "blueWins               0.525094   0.453521   0.439782          0.420451   \n",
       "\n",
       "          blueAssist  blueBaronKills  blueTotalGold  blueAvgLevel  \\\n",
       "blueWins    0.372974        0.355048       0.276481      0.226127   \n",
       "\n",
       "          blueTotalLevel  blueTotalHeal  blueJungleMinionKills  \\\n",
       "blueWins        0.226127       0.215695               0.207726   \n",
       "\n",
       "          blueChampionDamageDealt  blueTotalMinionKills  blueWardkills  \\\n",
       "blueWins                  0.18018              0.078853       0.070485   \n",
       "\n",
       "          blueWardPlaced  \n",
       "blueWins        0.037542  "
      ]
     },
     "execution_count": 38,
     "metadata": {},
     "output_type": "execute_result"
    }
   ],
   "source": [
    "from sklearn.linear_model import LinearRegression\n",
    "\n",
    "# Correlation matrix including the new variables\n",
    "C_numdata['goldRatio'] = C_relVar['goldRatio']\n",
    "C_numdata['levelRatio'] = C_relVar['levelRatio']\n",
    "C_wins = C_numdata.corr()[17:18]\n",
    "C_wins.abs().sort_values('blueWins', axis = 1, ascending=False)"
   ]
  },
  {
   "cell_type": "code",
   "execution_count": 46,
   "metadata": {},
   "outputs": [
    {
     "name": "stdout",
     "output_type": "stream",
     "text": [
      "r^2 of 1 variable LRM model:  0.9648\n",
      "r^2 of 2 variable LRM model:  0.9825\n",
      "r^2 of 3 variable LRM model:  0.9833\n",
      "r^2 of 4 variable LRM model:  0.9845\n",
      "r^2 of 5 variable LRM model:  0.827\n",
      "r^2 of 6 variable LRM model:  0.8317\n",
      "r^2 of 7 variable LRM model:  0.9573\n",
      "r^2 of 8 variable LRM model:  0.9572\n",
      "r^2 of 9 variable LRM model:  0.9577\n",
      "r^2 of 10 variable LRM model:  0.9579\n"
     ]
    },
    {
     "name": "stderr",
     "output_type": "stream",
     "text": [
      "/Users/binjang/opt/anaconda3/lib/python3.8/site-packages/sklearn/linear_model/_logistic.py:762: ConvergenceWarning: lbfgs failed to converge (status=1):\n",
      "STOP: TOTAL NO. of ITERATIONS REACHED LIMIT.\n",
      "\n",
      "Increase the number of iterations (max_iter) or scale the data as shown in:\n",
      "    https://scikit-learn.org/stable/modules/preprocessing.html\n",
      "Please also refer to the documentation for alternative solver options:\n",
      "    https://scikit-learn.org/stable/modules/linear_model.html#logistic-regression\n",
      "  n_iter_i = _check_optimize_result(\n"
     ]
    },
    {
     "data": {
      "text/plain": [
       "<AxesSubplot:xlabel='nFeatures', ylabel='r2'>"
      ]
     },
     "execution_count": 46,
     "metadata": {},
     "output_type": "execute_result"
    },
    {
     "data": {
      "image/png": "[encoded data removed]",
      "text/plain": [
       "<Figure size 432x288 with 1 Axes>"
      ]
     },
     "metadata": {
      "needs_background": "light"
     },
     "output_type": "display_data"
    }
   ],
   "source": [
    "from sklearn.linear_model import LogisticRegression\n",
    "\n",
    "# Make a list of features, from high correlation to low\n",
    "fList = [\"levelRatio\", \"goldRatio\", \"blueTowerKills\", \"blueInhibitorKills\", \"blueObjectDamageDealt\", \"blueKills\", \"blueDeath\", \"blueKillingSpree\", \"blueAssist\", \"blueBaronKills\"]\n",
    "r2list = []\n",
    "\n",
    "# Using a for loop, see how much information is added with more features\n",
    "for i in range(1, len(fList) + 1):\n",
    "    X = C_numdata.loc[:, fList[:i]]\n",
    "    lrm = LogisticRegression().fit(X, C_numdata[\"blueWins\"])\n",
    "    r2score = lrm.score(X, C_numdata[\"blueWins\"])\n",
    "    r2list.append(r2score)\n",
    "    print(\"r^2 of\", i, \"variable LRM model: \", r2score.round(4))\n",
    "\n",
    "r2dic = {'r2' : r2list , 'nFeatures' : range(1, 11)}\n",
    "r2df = pd.DataFrame(r2dic)\n",
    "sns.lineplot(x = \"nFeatures\", y = \"r2\", data = r2df)"
   ]
  },
  {
   "cell_type": "markdown",
   "metadata": {},
   "source": [
    "Because some of the features are negatively affecting the model, we choose only the features that lead to maximized r^2 value:"
   ]
  },
  {
   "cell_type": "code",
   "execution_count": 43,
   "metadata": {},
   "outputs": [
    {
     "name": "stdout",
     "output_type": "stream",
     "text": [
      "r^2 of 1 variable LRM model:  0.9648\n",
      "r^2 of 2 variable LRM model:  0.9825\n",
      "r^2 of 3 variable LRM model:  0.9833\n",
      "r^2 of 4 variable LRM model:  0.9845\n"
     ]
    },
    {
     "data": {
      "text/plain": [
       "<AxesSubplot:xlabel='nFeatures', ylabel='r2'>"
      ]
     },
     "execution_count": 43,
     "metadata": {},
     "output_type": "execute_result"
    },
    {
     "data": {
      "image/png": "[encoded data removed]",
      "text/plain": [
       "<Figure size 432x288 with 1 Axes>"
      ]
     },
     "metadata": {
      "needs_background": "light"
     },
     "output_type": "display_data"
    }
   ],
   "source": [
    "fList = [\"levelRatio\", \"goldRatio\", \"blueTowerKills\", \"blueInhibitorKills\"]\n",
    "r2list = []\n",
    "for i in range(1, len(fList) + 1):\n",
    "    X = C_numdata.loc[:, fList[:i]]\n",
    "    lrm = LogisticRegression().fit(X, C_numdata[\"blueWins\"])\n",
    "    r2score = lrm.score(X, C_numdata[\"blueWins\"])\n",
    "    r2list.append(r2score)\n",
    "    print(\"r^2 of\", i, \"variable LRM model: \", r2score.round(4))\n",
    "\n",
    "r2dic = {'r2' : r2list , 'nFeatures' : range(1, 5)}\n",
    "r2df = pd.DataFrame(r2dic)\n",
    "sns.lineplot(x = \"nFeatures\", y = \"r2\", data = r2df)"
   ]
  },
  {
   "cell_type": "markdown",
   "metadata": {},
   "source": [
    "Our final model with four features have an r^2 score of 0.985. Since this analysis was done only using the Challenger dataset, let us now extend the model to all of the three tiers."
   ]
  },
  {
   "cell_type": "code",
   "execution_count": 60,
   "metadata": {},
   "outputs": [],
   "source": [
    "# Data for all tiers\n",
    "all_data = pd.concat([C_data, GM_data, M_data])\n",
    "all_numdata = all_data.iloc[:,9:26]\n",
    "all_numdata['blueWins'] = all_data['blueWins']\n",
    "\n",
    "all_numdata['goldRatio'] = all_data['blueTotalGold'] / all_data['redTotalGold']\n",
    "all_numdata['levelRatio'] = all_data['blueAvgLevel'] / all_data['redAvgLevel']"
   ]
  },
  {
   "cell_type": "code",
   "execution_count": 61,
   "metadata": {},
   "outputs": [
    {
     "data": {
      "text/html": [
       "<div>\n",
       "<style scoped>\n",
       "    .dataframe tbody tr th:only-of-type {\n",
       "        vertical-align: middle;\n",
       "    }\n",
       "\n",
       "    .dataframe tbody tr th {\n",
       "        vertical-align: top;\n",
       "    }\n",
       "\n",
       "    .dataframe thead th {\n",
       "        text-align: right;\n",
       "    }\n",
       "</style>\n",
       "<table border=\"1\" class=\"dataframe\">\n",
       "  <thead>\n",
       "    <tr style=\"text-align: right;\">\n",
       "      <th></th>\n",
       "      <th>blueBaronKills</th>\n",
       "      <th>blueTowerKills</th>\n",
       "      <th>blueInhibitorKills</th>\n",
       "      <th>blueWardPlaced</th>\n",
       "      <th>blueWardkills</th>\n",
       "      <th>blueKills</th>\n",
       "      <th>blueDeath</th>\n",
       "      <th>blueAssist</th>\n",
       "      <th>blueChampionDamageDealt</th>\n",
       "      <th>blueTotalGold</th>\n",
       "      <th>blueTotalMinionKills</th>\n",
       "      <th>blueTotalLevel</th>\n",
       "      <th>blueAvgLevel</th>\n",
       "      <th>blueJungleMinionKills</th>\n",
       "      <th>blueKillingSpree</th>\n",
       "      <th>blueTotalHeal</th>\n",
       "      <th>blueObjectDamageDealt</th>\n",
       "      <th>blueWins</th>\n",
       "      <th>goldRatio</th>\n",
       "      <th>levelRatio</th>\n",
       "    </tr>\n",
       "  </thead>\n",
       "  <tbody>\n",
       "    <tr>\n",
       "      <th>count</th>\n",
       "      <td>199911.000000</td>\n",
       "      <td>199911.000000</td>\n",
       "      <td>199911.000000</td>\n",
       "      <td>199911.000000</td>\n",
       "      <td>199911.000000</td>\n",
       "      <td>199911.000000</td>\n",
       "      <td>199911.000000</td>\n",
       "      <td>199911.000000</td>\n",
       "      <td>199911.000000</td>\n",
       "      <td>199911.000000</td>\n",
       "      <td>199911.000000</td>\n",
       "      <td>199911.000000</td>\n",
       "      <td>199911.000000</td>\n",
       "      <td>199911.000000</td>\n",
       "      <td>199911.000000</td>\n",
       "      <td>199911.000000</td>\n",
       "      <td>199911.000000</td>\n",
       "      <td>199911.000000</td>\n",
       "      <td>199911.000000</td>\n",
       "      <td>199911.000000</td>\n",
       "    </tr>\n",
       "    <tr>\n",
       "      <th>mean</th>\n",
       "      <td>0.297758</td>\n",
       "      <td>4.343533</td>\n",
       "      <td>0.647038</td>\n",
       "      <td>53.439696</td>\n",
       "      <td>19.548199</td>\n",
       "      <td>24.723537</td>\n",
       "      <td>24.714913</td>\n",
       "      <td>40.392675</td>\n",
       "      <td>69506.071802</td>\n",
       "      <td>47930.672324</td>\n",
       "      <td>500.148706</td>\n",
       "      <td>64.718545</td>\n",
       "      <td>12.943709</td>\n",
       "      <td>123.920830</td>\n",
       "      <td>5.691398</td>\n",
       "      <td>24396.681218</td>\n",
       "      <td>37126.502629</td>\n",
       "      <td>0.495921</td>\n",
       "      <td>1.032422</td>\n",
       "      <td>1.006720</td>\n",
       "    </tr>\n",
       "    <tr>\n",
       "      <th>std</th>\n",
       "      <td>0.535055</td>\n",
       "      <td>3.377123</td>\n",
       "      <td>0.910143</td>\n",
       "      <td>30.364321</td>\n",
       "      <td>14.672038</td>\n",
       "      <td>13.542038</td>\n",
       "      <td>13.538244</td>\n",
       "      <td>29.143148</td>\n",
       "      <td>37441.502421</td>\n",
       "      <td>16065.970820</td>\n",
       "      <td>177.498295</td>\n",
       "      <td>14.810196</td>\n",
       "      <td>2.962039</td>\n",
       "      <td>65.998771</td>\n",
       "      <td>3.628337</td>\n",
       "      <td>15230.398459</td>\n",
       "      <td>26588.722317</td>\n",
       "      <td>0.499985</td>\n",
       "      <td>0.270072</td>\n",
       "      <td>0.140406</td>\n",
       "    </tr>\n",
       "    <tr>\n",
       "      <th>min</th>\n",
       "      <td>0.000000</td>\n",
       "      <td>0.000000</td>\n",
       "      <td>0.000000</td>\n",
       "      <td>0.000000</td>\n",
       "      <td>0.000000</td>\n",
       "      <td>0.000000</td>\n",
       "      <td>0.000000</td>\n",
       "      <td>0.000000</td>\n",
       "      <td>0.000000</td>\n",
       "      <td>3355.000000</td>\n",
       "      <td>0.000000</td>\n",
       "      <td>5.000000</td>\n",
       "      <td>1.000000</td>\n",
       "      <td>0.000000</td>\n",
       "      <td>0.000000</td>\n",
       "      <td>0.000000</td>\n",
       "      <td>0.000000</td>\n",
       "      <td>0.000000</td>\n",
       "      <td>0.345486</td>\n",
       "      <td>0.192308</td>\n",
       "    </tr>\n",
       "    <tr>\n",
       "      <th>25%</th>\n",
       "      <td>0.000000</td>\n",
       "      <td>1.000000</td>\n",
       "      <td>0.000000</td>\n",
       "      <td>33.000000</td>\n",
       "      <td>8.000000</td>\n",
       "      <td>15.000000</td>\n",
       "      <td>15.000000</td>\n",
       "      <td>20.000000</td>\n",
       "      <td>41611.000000</td>\n",
       "      <td>36542.000000</td>\n",
       "      <td>383.000000</td>\n",
       "      <td>55.000000</td>\n",
       "      <td>11.000000</td>\n",
       "      <td>83.000000</td>\n",
       "      <td>3.000000</td>\n",
       "      <td>13335.000000</td>\n",
       "      <td>13649.000000</td>\n",
       "      <td>0.000000</td>\n",
       "      <td>0.825657</td>\n",
       "      <td>0.901408</td>\n",
       "    </tr>\n",
       "    <tr>\n",
       "      <th>50%</th>\n",
       "      <td>0.000000</td>\n",
       "      <td>4.000000</td>\n",
       "      <td>0.000000</td>\n",
       "      <td>53.000000</td>\n",
       "      <td>18.000000</td>\n",
       "      <td>24.000000</td>\n",
       "      <td>24.000000</td>\n",
       "      <td>35.000000</td>\n",
       "      <td>64488.000000</td>\n",
       "      <td>47900.000000</td>\n",
       "      <td>515.000000</td>\n",
       "      <td>66.000000</td>\n",
       "      <td>13.200000</td>\n",
       "      <td>126.000000</td>\n",
       "      <td>5.000000</td>\n",
       "      <td>21329.000000</td>\n",
       "      <td>33125.000000</td>\n",
       "      <td>0.000000</td>\n",
       "      <td>0.993743</td>\n",
       "      <td>1.000000</td>\n",
       "    </tr>\n",
       "    <tr>\n",
       "      <th>75%</th>\n",
       "      <td>1.000000</td>\n",
       "      <td>7.000000</td>\n",
       "      <td>1.000000</td>\n",
       "      <td>73.000000</td>\n",
       "      <td>29.000000</td>\n",
       "      <td>33.000000</td>\n",
       "      <td>33.000000</td>\n",
       "      <td>54.000000</td>\n",
       "      <td>90893.000000</td>\n",
       "      <td>58825.000000</td>\n",
       "      <td>623.000000</td>\n",
       "      <td>75.000000</td>\n",
       "      <td>15.000000</td>\n",
       "      <td>169.000000</td>\n",
       "      <td>8.000000</td>\n",
       "      <td>32077.000000</td>\n",
       "      <td>56809.500000</td>\n",
       "      <td>1.000000</td>\n",
       "      <td>1.208715</td>\n",
       "      <td>1.102941</td>\n",
       "    </tr>\n",
       "    <tr>\n",
       "      <th>max</th>\n",
       "      <td>4.000000</td>\n",
       "      <td>11.000000</td>\n",
       "      <td>9.000000</td>\n",
       "      <td>230.000000</td>\n",
       "      <td>118.000000</td>\n",
       "      <td>112.000000</td>\n",
       "      <td>117.000000</td>\n",
       "      <td>256.000000</td>\n",
       "      <td>381484.000000</td>\n",
       "      <td>134323.000000</td>\n",
       "      <td>1514.000000</td>\n",
       "      <td>141.000000</td>\n",
       "      <td>28.200000</td>\n",
       "      <td>402.000000</td>\n",
       "      <td>31.000000</td>\n",
       "      <td>261707.000000</td>\n",
       "      <td>167692.000000</td>\n",
       "      <td>1.000000</td>\n",
       "      <td>4.493819</td>\n",
       "      <td>4.125000</td>\n",
       "    </tr>\n",
       "  </tbody>\n",
       "</table>\n",
       "</div>"
      ],
      "text/plain": [
       "       blueBaronKills  blueTowerKills  blueInhibitorKills  blueWardPlaced  \\\n",
       "count   199911.000000   199911.000000       199911.000000   199911.000000   \n",
       "mean         0.297758        4.343533            0.647038       53.439696   \n",
       "std          0.535055        3.377123            0.910143       30.364321   \n",
       "min          0.000000        0.000000            0.000000        0.000000   \n",
       "25%          0.000000        1.000000            0.000000       33.000000   \n",
       "50%          0.000000        4.000000            0.000000       53.000000   \n",
       "75%          1.000000        7.000000            1.000000       73.000000   \n",
       "max          4.000000       11.000000            9.000000      230.000000   \n",
       "\n",
       "       blueWardkills      blueKills      blueDeath     blueAssist  \\\n",
       "count  199911.000000  199911.000000  199911.000000  199911.000000   \n",
       "mean       19.548199      24.723537      24.714913      40.392675   \n",
       "std        14.672038      13.542038      13.538244      29.143148   \n",
       "min         0.000000       0.000000       0.000000       0.000000   \n",
       "25%         8.000000      15.000000      15.000000      20.000000   \n",
       "50%        18.000000      24.000000      24.000000      35.000000   \n",
       "75%        29.000000      33.000000      33.000000      54.000000   \n",
       "max       118.000000     112.000000     117.000000     256.000000   \n",
       "\n",
       "       blueChampionDamageDealt  blueTotalGold  blueTotalMinionKills  \\\n",
       "count            199911.000000  199911.000000         199911.000000   \n",
       "mean              69506.071802   47930.672324            500.148706   \n",
       "std               37441.502421   16065.970820            177.498295   \n",
       "min                   0.000000    3355.000000              0.000000   \n",
       "25%               41611.000000   36542.000000            383.000000   \n",
       "50%               64488.000000   47900.000000            515.000000   \n",
       "75%               90893.000000   58825.000000            623.000000   \n",
       "max              381484.000000  134323.000000           1514.000000   \n",
       "\n",
       "       blueTotalLevel   blueAvgLevel  blueJungleMinionKills  blueKillingSpree  \\\n",
       "count   199911.000000  199911.000000          199911.000000     199911.000000   \n",
       "mean        64.718545      12.943709             123.920830          5.691398   \n",
       "std         14.810196       2.962039              65.998771          3.628337   \n",
       "min          5.000000       1.000000               0.000000          0.000000   \n",
       "25%         55.000000      11.000000              83.000000          3.000000   \n",
       "50%         66.000000      13.200000             126.000000          5.000000   \n",
       "75%         75.000000      15.000000             169.000000          8.000000   \n",
       "max        141.000000      28.200000             402.000000         31.000000   \n",
       "\n",
       "       blueTotalHeal  blueObjectDamageDealt       blueWins      goldRatio  \\\n",
       "count  199911.000000          199911.000000  199911.000000  199911.000000   \n",
       "mean    24396.681218           37126.502629       0.495921       1.032422   \n",
       "std     15230.398459           26588.722317       0.499985       0.270072   \n",
       "min         0.000000               0.000000       0.000000       0.345486   \n",
       "25%     13335.000000           13649.000000       0.000000       0.825657   \n",
       "50%     21329.000000           33125.000000       0.000000       0.993743   \n",
       "75%     32077.000000           56809.500000       1.000000       1.208715   \n",
       "max    261707.000000          167692.000000       1.000000       4.493819   \n",
       "\n",
       "          levelRatio  \n",
       "count  199911.000000  \n",
       "mean        1.006720  \n",
       "std         0.140406  \n",
       "min         0.192308  \n",
       "25%         0.901408  \n",
       "50%         1.000000  \n",
       "75%         1.102941  \n",
       "max         4.125000  "
      ]
     },
     "execution_count": 61,
     "metadata": {},
     "output_type": "execute_result"
    }
   ],
   "source": [
    "all_numdata.replace(np.inf, np.nan, inplace = True)\n",
    "all_numdata = all_numdata.dropna(axis = 0)\n",
    "all_numdata.describe()"
   ]
  },
  {
   "cell_type": "code",
   "execution_count": 62,
   "metadata": {},
   "outputs": [
    {
     "name": "stdout",
     "output_type": "stream",
     "text": [
      "r^2 of 1 variable LRM model:  0.9614\n",
      "r^2 of 2 variable LRM model:  0.981\n",
      "r^2 of 3 variable LRM model:  0.9825\n",
      "r^2 of 4 variable LRM model:  0.9835\n"
     ]
    },
    {
     "data": {
      "text/plain": [
       "<AxesSubplot:xlabel='nFeatures', ylabel='r2'>"
      ]
     },
     "execution_count": 62,
     "metadata": {},
     "output_type": "execute_result"
    },
    {
     "data": {
      "image/png": "[encoded data removed]",
      "text/plain": [
       "<Figure size 432x288 with 1 Axes>"
      ]
     },
     "metadata": {
      "needs_background": "light"
     },
     "output_type": "display_data"
    }
   ],
   "source": [
    "fList = [\"levelRatio\", \"goldRatio\", \"blueTowerKills\", \"blueInhibitorKills\"]\n",
    "r2list = []\n",
    "for i in range(1, len(fList) + 1):\n",
    "    X = all_numdata.loc[:, fList[:i]]\n",
    "    lrm = LogisticRegression().fit(X, all_numdata[\"blueWins\"])\n",
    "    r2score = lrm.score(X, all_numdata[\"blueWins\"])\n",
    "    r2list.append(r2score)\n",
    "    print(\"r^2 of\", i, \"variable LRM model: \", r2score.round(4))\n",
    "\n",
    "r2dic = {'r2' : r2list , 'nFeatures' : range(1, 5)}\n",
    "r2df = pd.DataFrame(r2dic)\n",
    "sns.lineplot(x = \"nFeatures\", y = \"r2\", data = r2df)"
   ]
  },
  {
   "cell_type": "markdown",
   "metadata": {},
   "source": [
    "It looks like our model is working well with the new dataframe! We will further verify the model in the next section."
   ]
  },
  {
   "cell_type": "markdown",
   "metadata": {},
   "source": [
    "------------------"
   ]
  },
  {
   "cell_type": "markdown",
   "metadata": {},
   "source": [
    "## [4. Evaluation of Significance](#Table-of-Contents)"
   ]
  },
  {
   "cell_type": "markdown",
   "metadata": {},
   "source": [
    "The aim of our model is to get 50%+ accuracy, which would mean that it would be more accurate than a random guess of win/loss.\n",
    "\n",
    "We will first use cross-validation within our training set to evaluate our model. Since there are around 200,000 samples which is a large number, we will perform a 10-fold cross-validation. "
   ]
  },
  {
   "cell_type": "code",
   "execution_count": 64,
   "metadata": {},
   "outputs": [
    {
     "name": "stdout",
     "output_type": "stream",
     "text": [
      "[0.98539416 0.98574358 0.98204192 0.98209194 0.98454304 0.98524336\n",
      " 0.98094142 0.98299235 0.9828923  0.9828923 ]\n",
      "Mean score: 0.9834776379662964\n"
     ]
    }
   ],
   "source": [
    "from sklearn.model_selection import train_test_split, cross_val_score\n",
    "\n",
    "# Cross validation\n",
    "scores = cross_val_score(\n",
    "    LogisticRegression(), \n",
    "    all_numdata[fList], \n",
    "    all_numdata[\"blueWins\"], \n",
    "    cv=10\n",
    ")\n",
    "print(scores)\n",
    "print(f'Mean score: {scores.mean()}')"
   ]
  },
  {
   "cell_type": "code",
   "execution_count": 69,
   "metadata": {},
   "outputs": [
    {
     "name": "stdout",
     "output_type": "stream",
     "text": [
      "Confusion matrix\n",
      "[[98948  1823]\n",
      " [ 1476 97664]]\n"
     ]
    },
    {
     "data": {
      "image/png": "[encoded data removed]",
      "text/plain": [
       "<Figure size 432x288 with 2 Axes>"
      ]
     },
     "metadata": {
      "needs_background": "light"
     },
     "output_type": "display_data"
    }
   ],
   "source": [
    "from sklearn.metrics import confusion_matrix, plot_confusion_matrix, classification_report\n",
    "\n",
    "# True labels and predicted labels\n",
    "y_true = all_numdata[\"blueWins\"]\n",
    "model = LogisticRegression().fit(all_numdata[fList], all_numdata[\"blueWins\"])\n",
    "y_pred = model.predict(all_numdata[fList])\n",
    "\n",
    "# Confusion matrix\n",
    "print(\"Confusion matrix\")\n",
    "print(confusion_matrix(y_true, y_pred))\n",
    "\n",
    "# Visualize confusion matrix\n",
    "plot_confusion_matrix(\n",
    "    model, \n",
    "    all_numdata[fList], \n",
    "    y_true, \n",
    "    normalize='true'\n",
    ")\n",
    "plt.show()"
   ]
  },
  {
   "cell_type": "markdown",
   "metadata": {},
   "source": [
    "Both the confusion matrix and the cross-validation mean score clearly show that our logistic regression model performs much better than just random guess. "
   ]
  },
  {
   "cell_type": "code",
   "execution_count": null,
   "metadata": {},
   "outputs": [],
   "source": []
  },
  {
   "cell_type": "markdown",
   "metadata": {},
   "source": [
    "We will use a new test set to verify this."
   ]
  },
  {
   "cell_type": "markdown",
   "metadata": {},
   "source": [
    "------------------"
   ]
  },
  {
   "cell_type": "markdown",
   "metadata": {},
   "source": [
    "## [5. Interpretation and Conclusions](#Table-of-Contents)"
   ]
  },
  {
   "cell_type": "markdown",
   "metadata": {},
   "source": [
    "On the first part of the analysis, we looked at the number of games, winrate, and the 'champ pool'. Our conclusion from the first part was that **neither high winrate nor more number of games alone guarentees higher rank.** You need a good mix of both to be high up in the ranking, and the climbing gets harder (requires more LP between ranks) as you get higher in rank. As for the number of champions, there is a positive trend and the mean goes up as the rank gets higher, but there are outliers, so it's not necessary to play diverse champions but statistically advantageous to do so.\n",
    "\n",
    "On the second part of the anlysis, we dealt with some in-game statistics that were related to the outcome of the game. We first looked at the boolean features, discovering that **taking the first inhibitor is the most influtential thing to do in game**, **taking the first tower down being the next important**. Then we built a **regression model** that predicts the outcome of the game using **four of the most important features from our dataset**, along with newly added features from empirical knowledge, and evaluated its performance with respect to random guessing, using ten-fold cross-validation.\n",
    "\n",
    "In conclusion, how does one get better at LoL? First, you need to play many games with a decent winrate of 55+%. You don't necessarily have to play many champions, but being able to play about 8 champions should have a positive effect. When you are playing the actual game, focus on leveling, getting as much gold as you can, and taking down turrets above everything else. That is, killing the enemy champion and the KDA (kill/death/assists) is not as meaningful as the gold and level advantages (although they do have some correlation.) This should be pretty much all you have to know to be a high-rank player in League of Legends! (although the actual implementation would be a different matter...)"
   ]
  },
  {
   "cell_type": "markdown",
   "metadata": {},
   "source": [
    "------------------"
   ]
  },
  {
   "cell_type": "markdown",
   "metadata": {},
   "source": [
    "## [6. Data Limitations](#Table-of-Contents)\n",
    "\n",
    "The biggest concern that I have is that this dataset does not reflect the whole LoL population. This data is from the KR server only, and this is the statistic of LoL population by region (ranked players only, i.e. above level 30) as of 03.18.2021 :"
   ]
  },
  {
   "cell_type": "code",
   "execution_count": 11,
   "metadata": {},
   "outputs": [
    {
     "data": {
      "text/html": [
       "<div>\n",
       "<style scoped>\n",
       "    .dataframe tbody tr th:only-of-type {\n",
       "        vertical-align: middle;\n",
       "    }\n",
       "\n",
       "    .dataframe tbody tr th {\n",
       "        vertical-align: top;\n",
       "    }\n",
       "\n",
       "    .dataframe thead th {\n",
       "        text-align: right;\n",
       "    }\n",
       "</style>\n",
       "<table border=\"1\" class=\"dataframe\">\n",
       "  <thead>\n",
       "    <tr style=\"text-align: right;\">\n",
       "      <th></th>\n",
       "      <th>Region</th>\n",
       "      <th>Region Code</th>\n",
       "      <th>Population rank</th>\n",
       "      <th>Population (Count)</th>\n",
       "      <th>Population (%)</th>\n",
       "    </tr>\n",
       "  </thead>\n",
       "  <tbody>\n",
       "    <tr>\n",
       "      <th>0</th>\n",
       "      <td>Korea</td>\n",
       "      <td>KR</td>\n",
       "      <td>1</td>\n",
       "      <td>3,126,493</td>\n",
       "      <td>29.64%</td>\n",
       "    </tr>\n",
       "    <tr>\n",
       "      <th>1</th>\n",
       "      <td>Europe west</td>\n",
       "      <td>EUW</td>\n",
       "      <td>2</td>\n",
       "      <td>2,189,380</td>\n",
       "      <td>20.76%</td>\n",
       "    </tr>\n",
       "    <tr>\n",
       "      <th>2</th>\n",
       "      <td>Europe Nordic &amp; East</td>\n",
       "      <td>EUNE</td>\n",
       "      <td>3</td>\n",
       "      <td>1,188,536</td>\n",
       "      <td>11.27%</td>\n",
       "    </tr>\n",
       "    <tr>\n",
       "      <th>3</th>\n",
       "      <td>North America</td>\n",
       "      <td>NA</td>\n",
       "      <td>4</td>\n",
       "      <td>1,142,773</td>\n",
       "      <td>10.83%</td>\n",
       "    </tr>\n",
       "    <tr>\n",
       "      <th>4</th>\n",
       "      <td>Brazil</td>\n",
       "      <td>BR</td>\n",
       "      <td>5</td>\n",
       "      <td>1,002,201</td>\n",
       "      <td>9.50%</td>\n",
       "    </tr>\n",
       "    <tr>\n",
       "      <th>5</th>\n",
       "      <td>Latin America North</td>\n",
       "      <td>LAN</td>\n",
       "      <td>6</td>\n",
       "      <td>576,285</td>\n",
       "      <td>5.46%</td>\n",
       "    </tr>\n",
       "    <tr>\n",
       "      <th>6</th>\n",
       "      <td>Latin America South</td>\n",
       "      <td>LAS</td>\n",
       "      <td>7</td>\n",
       "      <td>522,292</td>\n",
       "      <td>4.95%</td>\n",
       "    </tr>\n",
       "    <tr>\n",
       "      <th>7</th>\n",
       "      <td>Turkey</td>\n",
       "      <td>TR</td>\n",
       "      <td>8</td>\n",
       "      <td>465,066</td>\n",
       "      <td>4.41%</td>\n",
       "    </tr>\n",
       "    <tr>\n",
       "      <th>8</th>\n",
       "      <td>Russia</td>\n",
       "      <td>RU</td>\n",
       "      <td>9</td>\n",
       "      <td>144,936</td>\n",
       "      <td>1.37%</td>\n",
       "    </tr>\n",
       "    <tr>\n",
       "      <th>9</th>\n",
       "      <td>Oceania</td>\n",
       "      <td>OCE</td>\n",
       "      <td>10</td>\n",
       "      <td>122,184</td>\n",
       "      <td>1.16%</td>\n",
       "    </tr>\n",
       "    <tr>\n",
       "      <th>10</th>\n",
       "      <td>Japan</td>\n",
       "      <td>JP</td>\n",
       "      <td>11</td>\n",
       "      <td>67,590</td>\n",
       "      <td>0.64%</td>\n",
       "    </tr>\n",
       "  </tbody>\n",
       "</table>\n",
       "</div>"
      ],
      "text/plain": [
       "                  Region Region Code  Population rank Population (Count)  \\\n",
       "0                  Korea          KR                1          3,126,493   \n",
       "1            Europe west         EUW                2          2,189,380   \n",
       "2   Europe Nordic & East        EUNE                3          1,188,536   \n",
       "3          North America          NA                4          1,142,773   \n",
       "4                 Brazil          BR                5          1,002,201   \n",
       "5    Latin America North         LAN                6            576,285   \n",
       "6    Latin America South         LAS                7            522,292   \n",
       "7                 Turkey          TR                8            465,066   \n",
       "8                 Russia          RU                9            144,936   \n",
       "9                Oceania         OCE               10            122,184   \n",
       "10                 Japan          JP               11             67,590   \n",
       "\n",
       "   Population (%)  \n",
       "0          29.64%  \n",
       "1          20.76%  \n",
       "2          11.27%  \n",
       "3          10.83%  \n",
       "4           9.50%  \n",
       "5           5.46%  \n",
       "6           4.95%  \n",
       "7           4.41%  \n",
       "8           1.37%  \n",
       "9           1.16%  \n",
       "10          0.64%  "
      ]
     },
     "execution_count": 11,
     "metadata": {},
     "output_type": "execute_result"
    }
   ],
   "source": [
    "LoLpop = pd.read_csv(\"LoL Population by Region.csv\", na_filter = False)\n",
    "LoLpop"
   ]
  },
  {
   "cell_type": "markdown",
   "metadata": {},
   "source": [
    "So this research reflects about 30% of the whole population. Although I believe that the overall trend would be the same across the world, it definitely would make a change if I analyze the whoel population instead of a specific part of it. Since there are 11 servers, I couldn't collect data from all of the servers, but the research has some room for improvement there."
   ]
  },
  {
   "cell_type": "markdown",
   "metadata": {},
   "source": [
    "I was also concerned about causality for the second part of the analysis. You don't know if they had more kills / gold / damage because they were already ahead in the game, or if they could win the game because of those factors. I guess the model certainly did the job of setting the hierarchy between those variable, but I believe that the causality problem has to be addressed to make sure that they actually 'contribute' to a win instead of just being the by-product of it. "
   ]
  },
  {
   "cell_type": "markdown",
   "metadata": {},
   "source": [
    "Lastly I had technical difficulties while doing the data collection for the first part of the analysis. I had to make thousands of requests on the deloper API to create the dataset, but because there was a rate limit on the number of requests that I could make, it took hours to do the collection. The problem is, these players are real people and they play games while I fetch the data, so their match history and rankings and everything could change *while* I do the data collection. I had to get rid of a few datapoints because of this (because their rankings were 'overlapping' which technically doesn't make sense) and the size of the dataset also had to be limited. I hope I can find a way to get around with this."
   ]
  },
  {
   "cell_type": "markdown",
   "metadata": {},
   "source": [
    "------------------"
   ]
  },
  {
   "cell_type": "markdown",
   "metadata": {},
   "source": [
    "## [7. Acknowledgements](#Table-of-Contents)"
   ]
  },
  {
   "cell_type": "markdown",
   "metadata": {},
   "source": [
    "- Many of the explanations and photos of the game were taken from [this website](https://mobalytics.gg/blog/absolute-beginners-guide-to-league-of-legends/)\n",
    "- The dataset used for the second part of the analysis was taken from [Kaggle](https://www.kaggle.com/gyejr95/league-of-legends-challenger-ranked-games2020/activity)\n",
    "- And of course, I had to visit the [pandas](https://pandas.pydata.org/docs/index.html) and [seaborn](https://seaborn.pydata.org/generated/seaborn.regplot.html) documentation a million times\n",
    "- Some inspirations from [this LoL match stats website](https://na.op.gg/#)"
   ]
  },
  {
   "cell_type": "markdown",
   "metadata": {},
   "source": [
    "------------------"
   ]
  },
  {
   "cell_type": "code",
   "execution_count": null,
   "metadata": {},
   "outputs": [],
   "source": []
  }
 ],
 "metadata": {
  "kernelspec": {
   "display_name": "Python 3",
   "language": "python",
   "name": "python3"
  },
  "language_info": {
   "codemirror_mode": {
    "name": "ipython",
    "version": 3
   },
   "file_extension": ".py",
   "mimetype": "text/x-python",
   "name": "python",
   "nbconvert_exporter": "python",
   "pygments_lexer": "ipython3",
   "version": "3.8.5"
  }
 },
 "nbformat": 4,
 "nbformat_minor": 4
}
